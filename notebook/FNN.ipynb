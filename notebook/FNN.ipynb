{
 "cells": [
  {
   "cell_type": "code",
   "execution_count": 3,
   "metadata": {
    "execution": {
     "iopub.execute_input": "2021-07-06T15:43:44.509537Z",
     "iopub.status.busy": "2021-07-06T15:43:44.509161Z",
     "iopub.status.idle": "2021-07-06T15:43:46.348188Z",
     "shell.execute_reply": "2021-07-06T15:43:46.347283Z",
     "shell.execute_reply.started": "2021-07-06T15:43:44.509503Z"
    }
   },
   "outputs": [
    {
     "name": "stdout",
     "output_type": "stream",
     "text": [
      "Training on [cuda:0].\n",
      "CPU times: user 699 ms, sys: 294 ms, total: 993 ms\n",
      "Wall time: 1.83 s\n"
     ]
    }
   ],
   "source": [
    "%%time\n",
    "\n",
    "from utils.utils import create_dataset, Trainer\n",
    "from layer.layer import Embedding, FeaturesEmbedding, EmbeddingsInteraction, MultiLayerPerceptron\n",
    "\n",
    "import torch\n",
    "import torch.nn as nn\n",
    "import torch.optim as optim\n",
    "\n",
    "device = torch.device('cuda:0' if torch.cuda.is_available() else 'cpu')\n",
    "print('Training on [{}].'.format(device))\n"
   ]
  },
  {
   "cell_type": "code",
   "execution_count": 4,
   "metadata": {
    "execution": {
     "iopub.execute_input": "2021-07-06T15:43:46.351826Z",
     "iopub.status.busy": "2021-07-06T15:43:46.351556Z",
     "iopub.status.idle": "2021-07-06T15:43:55.939011Z",
     "shell.execute_reply": "2021-07-06T15:43:55.937485Z",
     "shell.execute_reply.started": "2021-07-06T15:43:46.351798Z"
    }
   },
   "outputs": [
    {
     "name": "stdout",
     "output_type": "stream",
     "text": [
      "CPU times: user 6.85 s, sys: 1.03 s, total: 7.88 s\n",
      "Wall time: 9.58 s\n"
     ]
    }
   ],
   "source": [
    "%%time\n",
    "\n",
    "dataset = create_dataset('criteo', sample_num=100000, device=device)\n",
    "field_dims, (train_X, train_y), (valid_X, valid_y), (test_X, test_y) = dataset.train_valid_test_split()\n"
   ]
  },
  {
   "cell_type": "code",
   "execution_count": 5,
   "metadata": {
    "execution": {
     "iopub.execute_input": "2021-07-06T15:43:55.940758Z",
     "iopub.status.busy": "2021-07-06T15:43:55.940423Z",
     "iopub.status.idle": "2021-07-06T15:43:55.954508Z",
     "shell.execute_reply": "2021-07-06T15:43:55.953419Z",
     "shell.execute_reply.started": "2021-07-06T15:43:55.940729Z"
    }
   },
   "outputs": [],
   "source": [
    "class FactorizationMachine(nn.Module):\n",
    "    \n",
    "    def __init__(self, field_dims, embed_dim=4):\n",
    "        super(FactorizationMachine, self).__init__()\n",
    "        \n",
    "        self.embed1 = FeaturesEmbedding(field_dims, 1)\n",
    "        self.embed2 = FeaturesEmbedding(field_dims, embed_dim)\n",
    "        self.bias = nn.Parameter(torch.zeros((1, )))\n",
    "\n",
    "    def forward(self, x):\n",
    "        # x shape: (batch_size, num_fields)\n",
    "        # embed(x) shape: (batch_size, num_fields, embed_dim)\n",
    "        square_sum = self.embed2(x).sum(dim=1).pow(2).sum(dim=1)\n",
    "        sum_square = self.embed2(x).pow(2).sum(dim=1).sum(dim=1)\n",
    "        output = self.embed1(x).squeeze(-1).sum(dim=1) + self.bias + (square_sum + sum_square) / 2\n",
    "        output = torch.sigmoid(output).unsqueeze(-1)\n",
    "        return output\n",
    "\n",
    "\n",
    "class FactorizationMachineSupportedNeuralNetwork(nn.Module):\n",
    "    \n",
    "    def __init__(self, field_dims, embed_dim=4):\n",
    "        super(FactorizationMachineSupportedNeuralNetwork, self).__init__()\n",
    "        \n",
    "        # w1, w2, ..., wn\n",
    "        self.embed1 = FeaturesEmbedding(field_dims, 1)\n",
    "        \n",
    "        # v1, v2, ..., vn\n",
    "        self.embed2 = FeaturesEmbedding(field_dims, embed_dim)\n",
    "        \n",
    "        self.mlp = MultiLayerPerceptron([(embed_dim + 1)*len(field_dims), 128, 64, 32, 1]) \n",
    "\n",
    "    def forward(self, x):\n",
    "        # x shape: (batch_size, num_fields)\n",
    "        \n",
    "        w = self.embed1(x).squeeze(-1)\n",
    "        v = self.embed2(x).reshape(x.shape[0], -1)\n",
    "        stacked = torch.hstack([w, v])\n",
    "        \n",
    "        output = self.mlp(stacked)\n",
    "        output = torch.sigmoid(output)\n",
    "        return output\n"
   ]
  },
  {
   "cell_type": "code",
   "execution_count": 6,
   "metadata": {
    "execution": {
     "iopub.execute_input": "2021-07-06T15:43:55.956327Z",
     "iopub.status.busy": "2021-07-06T15:43:55.955948Z",
     "iopub.status.idle": "2021-07-06T15:44:06.742922Z",
     "shell.execute_reply": "2021-07-06T15:44:06.741976Z",
     "shell.execute_reply.started": "2021-07-06T15:43:55.956286Z"
    }
   },
   "outputs": [
    {
     "name": "stderr",
     "output_type": "stream",
     "text": [
      " 24%|██▎       | 142/600 [00:10<00:33, 13.58it/s]\n"
     ]
    },
    {
     "data": {
      "image/png": "[encoded data removed]",
      "text/plain": [
       "<Figure size 432x288 with 1 Axes>"
      ]
     },
     "metadata": {
      "needs_background": "light"
     },
     "output_type": "display_data"
    },
    {
     "name": "stdout",
     "output_type": "stream",
     "text": [
      "train_loss: 0.35309 | train_metric: 0.90839\n",
      "valid_loss: 0.47912 | valid_metric: 0.74846\n",
      "test_loss:  0.46753 | test_auc:  0.75777\n",
      "CPU times: user 10.5 s, sys: 198 ms, total: 10.7 s\n",
      "Wall time: 10.8 s\n"
     ]
    }
   ],
   "source": [
    "%%time\n",
    "\n",
    "EMBEDDING_DIM = 8\n",
    "LEARNING_RATE = 1e-4\n",
    "REGULARIZATION = 1e-6\n",
    "BATCH_SIZE = 4096\n",
    "EPOCH = 600\n",
    "TRIAL = 100\n",
    "\n",
    "fm = FactorizationMachine(field_dims, EMBEDDING_DIM).to(device)\n",
    "optimizer = optim.Adam(fm.parameters(), lr=LEARNING_RATE, weight_decay=REGULARIZATION)\n",
    "criterion = nn.BCELoss()\n",
    "\n",
    "trainer = Trainer(fm, optimizer, criterion, BATCH_SIZE)\n",
    "trainer.train(train_X, train_y, epoch=EPOCH, trials=TRIAL, valid_X=valid_X, valid_y=valid_y)\n",
    "test_loss, test_auc = trainer.test(test_X, test_y)\n",
    "print('test_loss:  {:.5f} | test_auc:  {:.5f}'.format(test_loss, test_auc))\n"
   ]
  },
  {
   "cell_type": "code",
   "execution_count": 7,
   "metadata": {
    "execution": {
     "iopub.execute_input": "2021-07-06T15:44:06.744919Z",
     "iopub.status.busy": "2021-07-06T15:44:06.744324Z",
     "iopub.status.idle": "2021-07-06T15:44:25.661643Z",
     "shell.execute_reply": "2021-07-06T15:44:25.660169Z",
     "shell.execute_reply.started": "2021-07-06T15:44:06.744878Z"
    }
   },
   "outputs": [
    {
     "name": "stderr",
     "output_type": "stream",
     "text": [
      " 17%|█▋        | 103/600 [00:18<01:29,  5.52it/s]\n"
     ]
    },
    {
     "data": {
      "image/png": "[encoded data removed]",
      "text/plain": [
       "<Figure size 432x288 with 1 Axes>"
      ]
     },
     "metadata": {
      "needs_background": "light"
     },
     "output_type": "display_data"
    },
    {
     "name": "stdout",
     "output_type": "stream",
     "text": [
      "train_loss: 0.45483 | train_metric: 0.93952\n",
      "valid_loss: 0.59880 | valid_metric: 0.72019\n",
      "test_loss:  0.59387 | test_auc:  0.72644\n",
      "CPU times: user 18.1 s, sys: 296 ms, total: 18.4 s\n",
      "Wall time: 18.9 s\n"
     ]
    }
   ],
   "source": [
    "%%time\n",
    "\n",
    "fnn = FactorizationMachineSupportedNeuralNetwork(field_dims, EMBEDDING_DIM).to(device)\n",
    "\n",
    "# 参数赋值\n",
    "fm_state_dict = fm.state_dict()\n",
    "fnn_state_dict = fnn.state_dict()\n",
    "fnn_state_dict['embed1.embedding.weight'] = fm_state_dict['embed1.embedding.weight']\n",
    "fnn_state_dict['embed2.embedding.weight'] = fm_state_dict['embed2.embedding.weight']\n",
    "fnn_state_dict['mlp.mlp.0.bias'] = torch.zeros_like(fnn_state_dict['mlp.mlp.0.bias']).fill_(fm_state_dict['bias'].item())\n",
    "fnn.load_state_dict(fnn_state_dict)\n",
    "\n",
    "optimizer = optim.Adam(fnn.parameters(), lr=LEARNING_RATE, weight_decay=REGULARIZATION)\n",
    "criterion = nn.BCELoss()\n",
    "\n",
    "trainer = Trainer(fnn, optimizer, criterion, BATCH_SIZE)\n",
    "trainer.train(train_X, train_y, epoch=EPOCH, trials=TRIAL, valid_X=valid_X, valid_y=valid_y)\n",
    "test_loss, test_auc = trainer.test(test_X, test_y)\n",
    "print('test_loss:  {:.5f} | test_auc:  {:.5f}'.format(test_loss, test_auc))\n"
   ]
  },
  {
   "cell_type": "markdown",
   "metadata": {},
   "source": [
    "FNN 用了 FM 的参数后收敛确实更快，而且指标上相比不用的情况下也有所上升，但好像数据量少的情况下还是不如 FM。"
   ]
  },
  {
   "cell_type": "code",
   "execution_count": null,
   "metadata": {},
   "outputs": [],
   "source": []
  }
 ],
 "metadata": {
  "kernelspec": {
   "display_name": "Python 3",
   "language": "python",
   "name": "python3"
  },
  "language_info": {
   "codemirror_mode": {
    "name": "ipython",
    "version": 3
   },
   "file_extension": ".py",
   "mimetype": "text/x-python",
   "name": "python",
   "nbconvert_exporter": "python",
   "pygments_lexer": "ipython3",
   "version": "3.7.4"
  }
 },
 "nbformat": 4,
 "nbformat_minor": 4
}