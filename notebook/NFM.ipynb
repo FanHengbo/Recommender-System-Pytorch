{
 "cells": [
  {
   "cell_type": "code",
   "execution_count": 3,
   "metadata": {
    "execution": {
     "iopub.execute_input": "2021-07-06T16:26:57.921001Z",
     "iopub.status.busy": "2021-07-06T16:26:57.920707Z",
     "iopub.status.idle": "2021-07-06T16:26:59.857880Z",
     "shell.execute_reply": "2021-07-06T16:26:59.856809Z",
     "shell.execute_reply.started": "2021-07-06T16:26:57.920975Z"
    }
   },
   "outputs": [
    {
     "name": "stdout",
     "output_type": "stream",
     "text": [
      "Training on [cuda:0].\n",
      "CPU times: user 605 ms, sys: 278 ms, total: 883 ms\n",
      "Wall time: 1.93 s\n"
     ]
    }
   ],
   "source": [
    "%%time\n",
    "\n",
    "from utils.utils import create_dataset, Trainer\n",
    "from layer.layer import Embedding, FeaturesEmbedding, EmbeddingsInteraction, MultiLayerPerceptron\n",
    "\n",
    "import torch\n",
    "import torch.nn as nn\n",
    "import torch.optim as optim\n",
    "\n",
    "device = torch.device('cuda:0' if torch.cuda.is_available() else 'cpu')\n",
    "print('Training on [{}].'.format(device))\n"
   ]
  },
  {
   "cell_type": "code",
   "execution_count": 4,
   "metadata": {
    "execution": {
     "iopub.execute_input": "2021-07-06T16:26:59.859967Z",
     "iopub.status.busy": "2021-07-06T16:26:59.859389Z",
     "iopub.status.idle": "2021-07-06T16:27:09.363875Z",
     "shell.execute_reply": "2021-07-06T16:27:09.363004Z",
     "shell.execute_reply.started": "2021-07-06T16:26:59.859925Z"
    }
   },
   "outputs": [
    {
     "name": "stdout",
     "output_type": "stream",
     "text": [
      "CPU times: user 6.25 s, sys: 1.04 s, total: 7.28 s\n",
      "Wall time: 9.5 s\n"
     ]
    }
   ],
   "source": [
    "%%time\n",
    "\n",
    "dataset = create_dataset('criteo', sample_num=100000, device=device)\n",
    "field_dims, (train_X, train_y), (valid_X, valid_y), (test_X, test_y) = dataset.train_valid_test_split()\n"
   ]
  },
  {
   "cell_type": "code",
   "execution_count": 5,
   "metadata": {
    "execution": {
     "iopub.execute_input": "2021-07-06T16:27:09.365435Z",
     "iopub.status.busy": "2021-07-06T16:27:09.365099Z",
     "iopub.status.idle": "2021-07-06T16:27:09.374735Z",
     "shell.execute_reply": "2021-07-06T16:27:09.373918Z",
     "shell.execute_reply.started": "2021-07-06T16:27:09.365396Z"
    }
   },
   "outputs": [],
   "source": [
    "class NeuralFactorizationMachine(nn.Module):\n",
    "    \n",
    "    def __init__(self, field_dims, embed_dim=4):\n",
    "        super(NeuralFactorizationMachine, self).__init__()\n",
    "    \n",
    "        self.w0 = nn.Parameter(torch.zeros((1, )))\n",
    "        \n",
    "        self.embed1 = FeaturesEmbedding(field_dims, 1)\n",
    "        self.embed2 = FeaturesEmbedding(field_dims, embed_dim)\n",
    "        self.interaction = EmbeddingsInteraction()\n",
    "        self.mlp = MultiLayerPerceptron([embed_dim, 256, 128, 1])\n",
    "\n",
    "    def forward(self, x):\n",
    "        # x shape: (batch_size, num_fields)\n",
    "        # embed(x) shape: (batch_size, num_fields, embed_dim)\n",
    "\n",
    "        embeddings = self.embed2(x)\n",
    "        \n",
    "        bi_output = self.interaction(embeddings).sum(dim=1)\n",
    "        f_output = self.mlp(bi_output)\n",
    "        \n",
    "        output = self.w0 + self.embed1(x).sum(dim=1) + f_output\n",
    "        output = torch.sigmoid(output)\n",
    "        \n",
    "        return output\n",
    "\n"
   ]
  },
  {
   "cell_type": "code",
   "execution_count": 6,
   "metadata": {
    "execution": {
     "iopub.execute_input": "2021-07-06T16:27:09.376484Z",
     "iopub.status.busy": "2021-07-06T16:27:09.376122Z",
     "iopub.status.idle": "2021-07-06T16:27:56.471326Z",
     "shell.execute_reply": "2021-07-06T16:27:56.470352Z",
     "shell.execute_reply.started": "2021-07-06T16:27:09.376448Z"
    }
   },
   "outputs": [
    {
     "name": "stderr",
     "output_type": "stream",
     "text": [
      " 18%|█▊        | 108/600 [00:46<03:32,  2.31it/s]\n"
     ]
    },
    {
     "data": {
      "image/png": "[encoded data removed]",
      "text/plain": [
       "<Figure size 432x288 with 1 Axes>"
      ]
     },
     "metadata": {
      "needs_background": "light"
     },
     "output_type": "display_data"
    },
    {
     "name": "stdout",
     "output_type": "stream",
     "text": [
      "train_loss: 0.22498 | train_metric: 0.98507\n",
      "valid_loss: 0.65278 | valid_metric: 0.69894\n",
      "test_loss:  0.64545 | test_auc:  0.69948\n",
      "CPU times: user 46.1 s, sys: 239 ms, total: 46.3 s\n",
      "Wall time: 47.1 s\n"
     ]
    }
   ],
   "source": [
    "%%time\n",
    "\n",
    "EMBEDDING_DIM = 8\n",
    "LEARNING_RATE = 1e-4\n",
    "REGULARIZATION = 1e-6\n",
    "BATCH_SIZE = 4096\n",
    "EPOCH = 600\n",
    "TRIAL = 100\n",
    "\n",
    "nfm = NeuralFactorizationMachine(field_dims, EMBEDDING_DIM).to(device)\n",
    "optimizer = optim.Adam(nfm.parameters(), lr=LEARNING_RATE, weight_decay=REGULARIZATION)\n",
    "criterion = nn.BCELoss()\n",
    "\n",
    "trainer = Trainer(nfm, optimizer, criterion, BATCH_SIZE)\n",
    "trainer.train(train_X, train_y, epoch=EPOCH, trials=TRIAL, valid_X=valid_X, valid_y=valid_y)\n",
    "test_loss, test_auc = trainer.test(test_X, test_y)\n",
    "print('test_loss:  {:.5f} | test_auc:  {:.5f}'.format(test_loss, test_auc))\n"
   ]
  },
  {
   "cell_type": "code",
   "execution_count": null,
   "metadata": {},
   "outputs": [],
   "source": []
  }
 ],
 "metadata": {
  "kernelspec": {
   "display_name": "Python 3",
   "language": "python",
   "name": "python3"
  },
  "language_info": {
   "codemirror_mode": {
    "name": "ipython",
    "version": 3
   },
   "file_extension": ".py",
   "mimetype": "text/x-python",
   "name": "python",
   "nbconvert_exporter": "python",
   "pygments_lexer": "ipython3",
   "version": "3.7.4"
  }
 },
 "nbformat": 4,
 "nbformat_minor": 4
}