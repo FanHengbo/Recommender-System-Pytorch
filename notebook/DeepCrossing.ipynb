{
 "cells": [
  {
   "cell_type": "code",
   "execution_count": 3,
   "metadata": {
    "execution": {
     "iopub.execute_input": "2021-07-06T16:09:43.179224Z",
     "iopub.status.busy": "2021-07-06T16:09:43.178746Z",
     "iopub.status.idle": "2021-07-06T16:09:45.342396Z",
     "shell.execute_reply": "2021-07-06T16:09:45.341497Z",
     "shell.execute_reply.started": "2021-07-06T16:09:43.179187Z"
    }
   },
   "outputs": [
    {
     "name": "stdout",
     "output_type": "stream",
     "text": [
      "Training on [cuda:0].\n",
      "CPU times: user 640 ms, sys: 265 ms, total: 906 ms\n",
      "Wall time: 2.16 s\n"
     ]
    }
   ],
   "source": [
    "%%time\n",
    "\n",
    "from utils.utils import create_dataset, Trainer\n",
    "from layer.layer import Embedding, FeaturesEmbedding, EmbeddingsInteraction, MultiLayerPerceptron\n",
    "\n",
    "import torch\n",
    "import torch.nn as nn\n",
    "import torch.optim as optim\n",
    "\n",
    "device = torch.device('cuda:0' if torch.cuda.is_available() else 'cpu')\n",
    "print('Training on [{}].'.format(device))\n"
   ]
  },
  {
   "cell_type": "code",
   "execution_count": 4,
   "metadata": {
    "execution": {
     "iopub.execute_input": "2021-07-06T16:09:45.344235Z",
     "iopub.status.busy": "2021-07-06T16:09:45.343865Z",
     "iopub.status.idle": "2021-07-06T16:09:55.860842Z",
     "shell.execute_reply": "2021-07-06T16:09:55.859884Z",
     "shell.execute_reply.started": "2021-07-06T16:09:45.344198Z"
    }
   },
   "outputs": [
    {
     "name": "stdout",
     "output_type": "stream",
     "text": [
      "CPU times: user 6.98 s, sys: 1.09 s, total: 8.06 s\n",
      "Wall time: 10.5 s\n"
     ]
    }
   ],
   "source": [
    "%%time\n",
    "\n",
    "dataset = create_dataset('criteo', sample_num=100000, device=device)\n",
    "field_dims, (train_X, train_y), (valid_X, valid_y), (test_X, test_y) = dataset.train_valid_test_split()\n"
   ]
  },
  {
   "cell_type": "code",
   "execution_count": 5,
   "metadata": {
    "execution": {
     "iopub.execute_input": "2021-07-06T16:09:55.862724Z",
     "iopub.status.busy": "2021-07-06T16:09:55.862218Z",
     "iopub.status.idle": "2021-07-06T16:09:55.874980Z",
     "shell.execute_reply": "2021-07-06T16:09:55.874248Z",
     "shell.execute_reply.started": "2021-07-06T16:09:55.862683Z"
    }
   },
   "outputs": [],
   "source": [
    "class ResidualUnit(nn.Module):\n",
    "    \n",
    "    def __init__(self, input_size):\n",
    "        super(ResidualUnit, self).__init__()\n",
    "        \n",
    "        self.fc1 = nn.Linear(input_size, input_size)\n",
    "        self.fc2 = nn.Linear(input_size, input_size)\n",
    "        \n",
    "    def forward(self, x):\n",
    "        output = self.fc1(x)\n",
    "        output = torch.relu(output)\n",
    "        output = self.fc2(x)\n",
    "        output = output + x\n",
    "        return output\n",
    "\n",
    "\n",
    "class DeepCrossing(nn.Module):\n",
    "    \n",
    "    def __init__(self, field_dims, embed_dim=4, num_res=1):\n",
    "        super(DeepCrossing, self).__init__()\n",
    "        \n",
    "        input_size = len(field_dims) * embed_dim\n",
    "        self.res = nn.Sequential(*[ResidualUnit(input_size) for _ in range(num_res)])\n",
    "        self.embed = FeaturesEmbedding(field_dims, embed_dim)\n",
    "        self.fc = nn.Linear(input_size, 1)\n",
    "        \n",
    "    def forward(self, x):\n",
    "        # x shape: (batch_size, num_fields)\n",
    "        x = self.embed(x)\n",
    "        x = x.reshape(x.shape[0], -1)\n",
    "        x = self.res(x)\n",
    "        x = self.fc(x)\n",
    "        x = torch.sigmoid(x)\n",
    "        return x\n"
   ]
  },
  {
   "cell_type": "code",
   "execution_count": 6,
   "metadata": {
    "execution": {
     "iopub.execute_input": "2021-07-06T16:09:55.876547Z",
     "iopub.status.busy": "2021-07-06T16:09:55.876210Z",
     "iopub.status.idle": "2021-07-06T16:10:16.686511Z",
     "shell.execute_reply": "2021-07-06T16:10:16.685669Z",
     "shell.execute_reply.started": "2021-07-06T16:09:55.876512Z"
    }
   },
   "outputs": [
    {
     "name": "stderr",
     "output_type": "stream",
     "text": [
      " 17%|█▋        | 103/600 [00:20<01:38,  5.04it/s]\n"
     ]
    },
    {
     "data": {
      "image/png": "[encoded data removed]",
      "text/plain": [
       "<Figure size 432x288 with 1 Axes>"
      ]
     },
     "metadata": {
      "needs_background": "light"
     },
     "output_type": "display_data"
    },
    {
     "name": "stdout",
     "output_type": "stream",
     "text": [
      "train_loss: 0.61846 | train_metric: 0.92215\n",
      "valid_loss: 0.63032 | valid_metric: 0.74055\n",
      "test_loss:  0.62800 | test_auc:  0.74838\n",
      "CPU times: user 20 s, sys: 255 ms, total: 20.2 s\n",
      "Wall time: 20.8 s\n"
     ]
    }
   ],
   "source": [
    "%%time\n",
    "\n",
    "EMBEDDING_DIM = 8\n",
    "LEARNING_RATE = 1e-4\n",
    "REGULARIZATION = 1e-6\n",
    "BATCH_SIZE = 4096\n",
    "EPOCH = 600\n",
    "TRIAL = 100\n",
    "\n",
    "dc = DeepCrossing(field_dims, EMBEDDING_DIM).to(device)\n",
    "optimizer = optim.Adam(dc.parameters(), lr=LEARNING_RATE, weight_decay=REGULARIZATION)\n",
    "criterion = nn.BCELoss()\n",
    "\n",
    "trainer = Trainer(dc, optimizer, criterion, BATCH_SIZE)\n",
    "trainer.train(train_X, train_y, epoch=EPOCH, trials=TRIAL, valid_X=valid_X, valid_y=valid_y)\n",
    "test_loss, test_auc = trainer.test(test_X, test_y)\n",
    "print('test_loss:  {:.5f} | test_auc:  {:.5f}'.format(test_loss, test_auc))\n"
   ]
  },
  {
   "cell_type": "code",
   "execution_count": null,
   "metadata": {},
   "outputs": [],
   "source": []
  }
 ],
 "metadata": {
  "kernelspec": {
   "display_name": "Python 3",
   "language": "python",
   "name": "python3"
  },
  "language_info": {
   "codemirror_mode": {
    "name": "ipython",
    "version": 3
   },
   "file_extension": ".py",
   "mimetype": "text/x-python",
   "name": "python",
   "nbconvert_exporter": "python",
   "pygments_lexer": "ipython3",
   "version": "3.7.4"
  }
 },
 "nbformat": 4,
 "nbformat_minor": 4
}