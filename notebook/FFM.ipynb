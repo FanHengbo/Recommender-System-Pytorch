{
 "cells": [
  {
   "cell_type": "code",
   "execution_count": 3,
   "metadata": {
    "execution": {
     "iopub.execute_input": "2021-07-06T15:49:43.575818Z",
     "iopub.status.busy": "2021-07-06T15:49:43.575111Z",
     "iopub.status.idle": "2021-07-06T15:49:46.158202Z",
     "shell.execute_reply": "2021-07-06T15:49:46.157068Z",
     "shell.execute_reply.started": "2021-07-06T15:49:43.575773Z"
    }
   },
   "outputs": [
    {
     "name": "stdout",
     "output_type": "stream",
     "text": [
      "Training on [cuda:0].\n",
      "CPU times: user 761 ms, sys: 351 ms, total: 1.11 s\n",
      "Wall time: 2.57 s\n"
     ]
    }
   ],
   "source": [
    "%%time\n",
    "\n",
    "from utils.utils import create_dataset, Trainer\n",
    "from layer.layer import Embedding, FeaturesEmbedding, EmbeddingsInteraction, MultiLayerPerceptron\n",
    "\n",
    "import torch\n",
    "import torch.nn as nn\n",
    "import torch.optim as optim\n",
    "\n",
    "device = torch.device('cuda:0' if torch.cuda.is_available() else 'cpu')\n",
    "print('Training on [{}].'.format(device))\n"
   ]
  },
  {
   "cell_type": "code",
   "execution_count": 4,
   "metadata": {
    "execution": {
     "iopub.execute_input": "2021-07-06T15:49:46.165552Z",
     "iopub.status.busy": "2021-07-06T15:49:46.162880Z",
     "iopub.status.idle": "2021-07-06T15:49:57.174755Z",
     "shell.execute_reply": "2021-07-06T15:49:57.172661Z",
     "shell.execute_reply.started": "2021-07-06T15:49:46.165506Z"
    }
   },
   "outputs": [
    {
     "name": "stdout",
     "output_type": "stream",
     "text": [
      "CPU times: user 7.03 s, sys: 1.25 s, total: 8.29 s\n",
      "Wall time: 11 s\n"
     ]
    }
   ],
   "source": [
    "%%time\n",
    "\n",
    "dataset = create_dataset('criteo', sample_num=100000, device=device)\n",
    "field_dims, (train_X, train_y), (valid_X, valid_y), (test_X, test_y) = dataset.train_valid_test_split()\n"
   ]
  },
  {
   "cell_type": "code",
   "execution_count": 5,
   "metadata": {
    "execution": {
     "iopub.execute_input": "2021-07-06T15:49:57.176861Z",
     "iopub.status.busy": "2021-07-06T15:49:57.176439Z",
     "iopub.status.idle": "2021-07-06T15:49:57.188476Z",
     "shell.execute_reply": "2021-07-06T15:49:57.186668Z",
     "shell.execute_reply.started": "2021-07-06T15:49:57.176817Z"
    }
   },
   "outputs": [],
   "source": [
    "class FieldAwareFactorizationMachine(nn.Module):\n",
    "    \n",
    "    def __init__(self, field_dims, embed_dim=4):\n",
    "        super(FieldAwareFactorizationMachine, self).__init__()\n",
    "        \n",
    "        self.field_dims = field_dims\n",
    "        \n",
    "        self.bias = nn.Parameter(torch.zeros((1, )))\n",
    "        \n",
    "        self.embed_linear = FeaturesEmbedding(field_dims, 1)\n",
    "        self.embed_cross = nn.ModuleList([FeaturesEmbedding(field_dims, embed_dim) for _ in field_dims])\n",
    "\n",
    "    def forward(self, x):\n",
    "        # x shape: (batch_size, num_fields)\n",
    "        # embed(x) shape: (batch_size, num_fields, embed_dim)\n",
    "        \n",
    "        num_fields = len(self.field_dims)\n",
    "\n",
    "        embeddings = [embed(x) for embed in self.embed_cross]\n",
    "        embeddings = torch.hstack(embeddings)\n",
    "\n",
    "        i1, i2 = [], []\n",
    "        for i in range(num_fields):\n",
    "            for j in range(i+1, num_fields):\n",
    "                i1.append(j * num_fields + i)\n",
    "                i2.append(i * num_fields + j) \n",
    "\n",
    "        embedding_cross = torch.mul(embeddings[:,i1], embeddings[:,i2]).sum(dim=2).sum(dim=1, keepdim=True)\n",
    "\n",
    "        output = self.embed_linear(x).sum(dim=1) + self.bias + embedding_cross\n",
    "        output = torch.sigmoid(output)\n",
    "        return output\n"
   ]
  },
  {
   "cell_type": "code",
   "execution_count": 6,
   "metadata": {
    "execution": {
     "iopub.execute_input": "2021-07-06T15:49:57.191006Z",
     "iopub.status.busy": "2021-07-06T15:49:57.190414Z",
     "iopub.status.idle": "2021-07-06T15:52:45.824980Z",
     "shell.execute_reply": "2021-07-06T15:52:45.823828Z",
     "shell.execute_reply.started": "2021-07-06T15:49:57.190961Z"
    }
   },
   "outputs": [
    {
     "name": "stderr",
     "output_type": "stream",
     "text": [
      " 20%|██        | 122/600 [02:46<10:52,  1.36s/it]\n"
     ]
    },
    {
     "data": {
      "image/png": "[encoded data removed]",
      "text/plain": [
       "<Figure size 432x288 with 1 Axes>"
      ]
     },
     "metadata": {
      "needs_background": "light"
     },
     "output_type": "display_data"
    },
    {
     "name": "stdout",
     "output_type": "stream",
     "text": [
      "train_loss: 0.29481 | train_metric: 0.93917\n",
      "valid_loss: 0.47093 | valid_metric: 0.74549\n",
      "test_loss:  0.45304 | test_auc:  0.75700\n",
      "CPU times: user 2min 47s, sys: 675 ms, total: 2min 47s\n",
      "Wall time: 2min 48s\n"
     ]
    }
   ],
   "source": [
    "%%time\n",
    "\n",
    "EMBEDDING_DIM = 8\n",
    "LEARNING_RATE = 1e-4\n",
    "REGULARIZATION = 1e-6\n",
    "BATCH_SIZE = 4096\n",
    "EPOCH = 600\n",
    "TRIAL = 100\n",
    "\n",
    "ffm = FieldAwareFactorizationMachine(field_dims, EMBEDDING_DIM).to(device)\n",
    "optimizer = optim.Adam(ffm.parameters(), lr=LEARNING_RATE, weight_decay=REGULARIZATION)\n",
    "criterion = nn.BCELoss()\n",
    "\n",
    "trainer = Trainer(ffm, optimizer, criterion, BATCH_SIZE)\n",
    "trainer.train(train_X, train_y, epoch=EPOCH, trials=TRIAL, valid_X=valid_X, valid_y=valid_y)\n",
    "test_loss, test_auc = trainer.test(test_X, test_y)\n",
    "print('test_loss:  {:.5f} | test_auc:  {:.5f}'.format(test_loss, test_auc))\n"
   ]
  },
  {
   "cell_type": "code",
   "execution_count": null,
   "metadata": {},
   "outputs": [],
   "source": []
  }
 ],
 "metadata": {
  "kernelspec": {
   "display_name": "Python 3",
   "language": "python",
   "name": "python3"
  },
  "language_info": {
   "codemirror_mode": {
    "name": "ipython",
    "version": 3
   },
   "file_extension": ".py",
   "mimetype": "text/x-python",
   "name": "python",
   "nbconvert_exporter": "python",
   "pygments_lexer": "ipython3",
   "version": "3.7.4"
  }
 },
 "nbformat": 4,
 "nbformat_minor": 4
}