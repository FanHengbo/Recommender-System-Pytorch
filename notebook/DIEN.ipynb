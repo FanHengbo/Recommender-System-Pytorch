{
 "cells": [
  {
   "cell_type": "code",
   "execution_count": 3,
   "metadata": {
    "execution": {
     "iopub.execute_input": "2021-07-10T07:00:54.825771Z",
     "iopub.status.busy": "2021-07-10T07:00:54.825139Z",
     "iopub.status.idle": "2021-07-10T07:00:57.579287Z",
     "shell.execute_reply": "2021-07-10T07:00:57.578224Z",
     "shell.execute_reply.started": "2021-07-10T07:00:54.825730Z"
    }
   },
   "outputs": [
    {
     "name": "stdout",
     "output_type": "stream",
     "text": [
      "Training on [cuda:0].\n",
      "CPU times: user 746 ms, sys: 330 ms, total: 1.08 s\n",
      "Wall time: 2.74 s\n"
     ]
    }
   ],
   "source": [
    "\n",
    "%%time\n",
    "\n",
    "from utils.utils import create_dataset, Trainer\n",
    "from layer.layer import Embedding, FeaturesEmbedding, EmbeddingsInteraction, MultiLayerPerceptron\n",
    "\n",
    "import torch\n",
    "import torch.nn as nn\n",
    "import torch.optim as optim\n",
    "from torch.nn.utils.rnn import pack_padded_sequence, pad_packed_sequence, PackedSequence\n",
    "\n",
    "device = torch.device('cuda:0' if torch.cuda.is_available() else 'cpu')\n",
    "print('Training on [{}].'.format(device))\n"
   ]
  },
  {
   "cell_type": "code",
   "execution_count": 4,
   "metadata": {
    "execution": {
     "iopub.execute_input": "2021-07-10T07:00:57.582112Z",
     "iopub.status.busy": "2021-07-10T07:00:57.581197Z",
     "iopub.status.idle": "2021-07-10T07:02:01.558380Z",
     "shell.execute_reply": "2021-07-10T07:02:01.557200Z",
     "shell.execute_reply.started": "2021-07-10T07:00:57.582054Z"
    }
   },
   "outputs": [
    {
     "name": "stdout",
     "output_type": "stream",
     "text": [
      "CPU times: user 58.9 s, sys: 1.97 s, total: 1min\n",
      "Wall time: 1min 3s\n"
     ]
    }
   ],
   "source": [
    "\n",
    "%%time\n",
    "\n",
    "sequence_length = 40\n",
    "dataset = create_dataset('amazon-books', sample_num=100000, sequence_length=sequence_length, device=device)\n",
    "field_dims, (train_X, train_y), (valid_X, valid_y), (test_X, test_y) = dataset.train_valid_test_split()\n"
   ]
  },
  {
   "cell_type": "code",
   "execution_count": 5,
   "metadata": {
    "execution": {
     "iopub.execute_input": "2021-07-10T07:02:01.560314Z",
     "iopub.status.busy": "2021-07-10T07:02:01.559839Z",
     "iopub.status.idle": "2021-07-10T07:05:30.227575Z",
     "shell.execute_reply": "2021-07-10T07:05:30.226220Z",
     "shell.execute_reply.started": "2021-07-10T07:02:01.560272Z"
    }
   },
   "outputs": [
    {
     "name": "stderr",
     "output_type": "stream",
     "text": [
      "100%|██████████| 80000/80000 [03:28<00:00, 383.44it/s]"
     ]
    },
    {
     "name": "stdout",
     "output_type": "stream",
     "text": [
      "CPU times: user 3min 27s, sys: 1.07 s, total: 3min 28s\n",
      "Wall time: 3min 28s\n"
     ]
    },
    {
     "name": "stderr",
     "output_type": "stream",
     "text": [
      "\n"
     ]
    }
   ],
   "source": [
    "%%time\n",
    "\n",
    "import numpy as np\n",
    "from tqdm import tqdm\n",
    "\n",
    "def auxiliary_sample(X, sample_set):\n",
    "    pos_sample = X[:, 1: -1]\n",
    "    neg_sample = torch.zeros_like(pos_sample)\n",
    "    for i in tqdm(range(pos_sample.shape[0])):\n",
    "        for j in range(pos_sample.shape[1]):\n",
    "            if pos_sample[i, j] > 0:\n",
    "                idx = np.random.randint(len(sample_set))\n",
    "                while sample_set[idx] == pos_sample[i, j]:\n",
    "                    idx = np.random.randint(len(sample_set))\n",
    "                neg_sample[i, j] = sample_set[idx]\n",
    "            else:\n",
    "                break\n",
    "    return  neg_sample\n",
    "\n",
    "\n",
    "neg_sample = auxiliary_sample(train_X, dataset.cate_set)\n",
    "train_X_neg = torch.hstack([train_X, neg_sample])\n"
   ]
  },
  {
   "cell_type": "code",
   "execution_count": 6,
   "metadata": {
    "execution": {
     "iopub.execute_input": "2021-07-10T07:05:30.230015Z",
     "iopub.status.busy": "2021-07-10T07:05:30.229540Z",
     "iopub.status.idle": "2021-07-10T07:05:30.263892Z",
     "shell.execute_reply": "2021-07-10T07:05:30.262410Z",
     "shell.execute_reply.started": "2021-07-10T07:05:30.229971Z"
    }
   },
   "outputs": [],
   "source": [
    "   \n",
    "class Dice(nn.Module):\n",
    "    \n",
    "    def __init__(self):\n",
    "        super(Dice, self).__init__()\n",
    "        self.alpha = nn.Parameter(torch.zeros((1, )))\n",
    "        \n",
    "    def forward(self, x):\n",
    "        avg = x.mean(dim=0)\n",
    "        std = x.std(dim=0)\n",
    "        norm_x = (x - avg) / std\n",
    "        p = torch.sigmoid(norm_x)\n",
    "\n",
    "        return x.mul(p) + self.alpha * x.mul(1 - p)\n",
    "\n",
    "\n",
    "class Attention(nn.Module):\n",
    "    \n",
    "    def __init__(self, embed_dims):\n",
    "        super(Attention, self).__init__()\n",
    "        embed_dim1, embed_dim2 = embed_dims\n",
    "        self.mlp = nn.Sequential(\n",
    "            nn.Linear(embed_dim1 + embed_dim2 + embed_dim1 * embed_dim2 , 36),\n",
    "            Dice(),\n",
    "            nn.Linear(36, 1),\n",
    "        )\n",
    "    \n",
    "    def forward(self, packed: PackedSequence, key):\n",
    "        # key shape: (batch_size, embed_dim)\n",
    "        # x shape: (num_x, embed_dim)\n",
    "        x, batch_sizes, sorted_indices, unsorted_indices = packed\n",
    "        key = key[sorted_indices]\n",
    "        idx_list = []\n",
    "        for batch_size in batch_sizes:\n",
    "            idx_list.extend(range(batch_size))\n",
    "        key = key[idx_list]\n",
    "                \n",
    "        # outer product\n",
    "        i1, i2 = [], []\n",
    "        for i in range(x.shape[-1]):\n",
    "            for j in range(key.shape[-1]):\n",
    "                i1.append(i)\n",
    "                i2.append(j)\n",
    "        p = x[:, i1].mul(key[:, i2]).reshape(x.shape[0], -1)\n",
    "        \n",
    "        att = self.mlp(torch.hstack([x, p, key]))\n",
    "        return att\n",
    "\n",
    "\n",
    "class AUGRUCell(nn.Module):\n",
    "    \n",
    "    def __init__(self, input_size, hidden_size):\n",
    "        super(AUGRUCell, self).__init__()\n",
    "        \n",
    "        self.update_gate = nn.Sequential(\n",
    "            nn.Linear(input_size + hidden_size, 1),\n",
    "            nn.Sigmoid()\n",
    "        )\n",
    "        self.reset_gate = nn.Sequential(\n",
    "            nn.Linear(input_size + hidden_size, 1),\n",
    "            nn.Sigmoid()\n",
    "        )\n",
    "        \n",
    "        self.candidate = nn.Sequential(\n",
    "            nn.Linear(input_size + hidden_size, hidden_size),\n",
    "            nn.Tanh()\n",
    "        )\n",
    "    \n",
    "    def forward(self, x, h, att):\n",
    "        u = self.update_gate(torch.hstack([x, h]))\n",
    "        u = att * u\n",
    "        r = self.reset_gate(torch.hstack([x, h]))\n",
    "        tilde_h = self.candidate(torch.hstack([x, h * r]))\n",
    "        h = (1 - u) * h + u * tilde_h\n",
    "        return h\n",
    "\n",
    "    \n",
    "class AUGRU(nn.Module):\n",
    "    \n",
    "    def __init__(self, input_size, hidden_size, embed_dim=4):\n",
    "        super(AUGRU, self).__init__()\n",
    "        self.hidden_size = hidden_size\n",
    "        \n",
    "        self.attention = Attention([hidden_size, embed_dim])\n",
    "        self.augru_cell = AUGRUCell(input_size, hidden_size)\n",
    "        \n",
    "    \n",
    "    def forward(self, packed: PackedSequence, key, h=None):\n",
    "        x, batch_sizes, sorted_indices, unsorted_indices = packed\n",
    "        att = self.attention(packed, key)\n",
    "        device = x.device\n",
    "        if h == None:\n",
    "            h = torch.zeros(batch_sizes[0], self.hidden_size, device=device)\n",
    "            \n",
    "        output = torch.zeros(x.shape[0], self.hidden_size)\n",
    "        output_h = torch.zeros(batch_sizes[0], self.hidden_size, device=device)\n",
    "        \n",
    "        start = 0\n",
    "        for batch_size in batch_sizes:\n",
    "            _x = x[start: start + batch_size]\n",
    "            _att = att[start: start + batch_size]\n",
    "            _h = h[:batch_size]\n",
    "            h = self.augru_cell(_x, _h, _att)\n",
    "            output[start: start + batch_size] = h\n",
    "            output_h[:batch_size] = h\n",
    "            start += batch_size\n",
    "        \n",
    "        return PackedSequence(output, batch_sizes, sorted_indices, unsorted_indices), output_h[unsorted_indices]\n",
    "\n",
    "\n",
    "class DeepInterestEvolutionNetwork(nn.Module):\n",
    "    \n",
    "    def __init__(self, field_dims, embed_dim=4):\n",
    "        super(DeepInterestEvolutionNetwork, self).__init__()\n",
    "        hidden_size = embed_dim\n",
    "        # 商品 embedding 层\n",
    "        self.embed = Embedding(field_dims[0], embed_dim)\n",
    "        \n",
    "        self.gru = nn.GRU(embed_dim, hidden_size, batch_first=True)\n",
    "        self.augru = AUGRU(hidden_size, hidden_size, embed_dim)\n",
    "        \n",
    "        self.mlp = nn.Sequential(\n",
    "            nn.Linear(embed_dim + hidden_size, 200),\n",
    "            Dice(),\n",
    "            nn.Linear(200, 80),\n",
    "            Dice(),\n",
    "            nn.Linear(80, 1)\n",
    "        )\n",
    "        \n",
    "    def forward(self, x, neg_sample=None):\n",
    "        behaviors_ad_embeddings = self.embed(x)  # (batch_size, num_behaviors+1, embed_dim)\n",
    "        \n",
    "        lengths = (x[:, :-1] > 0).sum(dim=1).cpu()\n",
    "        packed_behaviors = pack_padded_sequence(behaviors_ad_embeddings, lengths, batch_first=True, enforce_sorted=False)\n",
    "        packed_gru_output, _ = self.gru(packed_behaviors)\n",
    "        augru_output, h = self.augru(packed_gru_output, behaviors_ad_embeddings[:, -1])\n",
    "        \n",
    "#         h = _.view(_.shape[1], -1)\n",
    "        concated = torch.hstack([h, behaviors_ad_embeddings[:, -1]])\n",
    "        output = self.mlp(concated)\n",
    "        output = torch.sigmoid(output)\n",
    "        \n",
    "        if neg_sample is None:\n",
    "            return output\n",
    "        else:\n",
    "            # auxiliary loss part\n",
    "            gru_output, _ = pad_packed_sequence(packed_gru_output, batch_first=True)\n",
    "            gru_embedding = gru_output[:, 1:][neg_sample > 0]\n",
    "            \n",
    "            pos_embedding = behaviors_ad_embeddings[:, 1:-1][neg_sample > 0]\n",
    "            neg_embedding = self.embed(neg_sample)[neg_sample > 0]\n",
    "\n",
    "            pred_pos = (gru_embedding * pos_embedding).sum(dim=1)\n",
    "            pred_neg = (gru_embedding * neg_embedding).sum(dim=1)\n",
    "            auxiliary_output = torch.sigmoid(torch.cat([pred_pos, pred_neg], dim=0)).reshape(2, -1)\n",
    "            \n",
    "            return output, auxiliary_output\n"
   ]
  },
  {
   "cell_type": "code",
   "execution_count": 7,
   "metadata": {
    "execution": {
     "iopub.execute_input": "2021-07-10T07:05:30.266272Z",
     "iopub.status.busy": "2021-07-10T07:05:30.265756Z",
     "iopub.status.idle": "2021-07-10T07:05:30.285815Z",
     "shell.execute_reply": "2021-07-10T07:05:30.284432Z",
     "shell.execute_reply.started": "2021-07-10T07:05:30.266213Z"
    }
   },
   "outputs": [],
   "source": [
    "from utils.utils import BatchLoader, EarlyStopper\n",
    "import matplotlib.pyplot as plt\n",
    "\n",
    "class DIENTrainer(Trainer):\n",
    "    \n",
    "    def __init__(self, model, optimizer, criterion, batch_size=None):\n",
    "        super(DIENTrainer, self).__init__(model, optimizer, criterion, batch_size)\n",
    "    \n",
    "    def train(self, train_X_neg, train_y, epoch=100, trials=None, valid_X=None, valid_y=None):\n",
    "        if self.batch_size:\n",
    "            train_loader = BatchLoader(train_X_neg, train_y, self.batch_size)\n",
    "        else:\n",
    "            # 为了在 for b_x, b_y in train_loader 的时候统一\n",
    "            train_loader = [[train_X_neg, train_y]]\n",
    "\n",
    "        if trials:\n",
    "            early_stopper = EarlyStopper(self.model, trials)\n",
    "\n",
    "        train_loss_list = []\n",
    "        valid_loss_list = []\n",
    "\n",
    "        for e in tqdm(range(epoch)):\n",
    "            # train part\n",
    "            self.model.train()\n",
    "            train_loss_ = 0\n",
    "            for b_x, b_y in train_loader:\n",
    "                self.optimizer.zero_grad()\n",
    "                seq_len = b_x.shape[1] // 2\n",
    "                pred_y, auxiliary_y = self.model(b_x[:, :seq_len+1], b_x[:, -seq_len+1:])\n",
    "                \n",
    "                auxiliary_true = torch.cat([torch.ones_like(auxiliary_y[0]), torch.zeros_like(auxiliary_y[1])], dim=0).view(2, -1)\n",
    "                auxiliary_loss = self.criterion(auxiliary_y, auxiliary_true)\n",
    "                auxiliary_loss.backward(retain_graph=True)\n",
    "                \n",
    "                train_loss = self.criterion(pred_y, b_y)\n",
    "                train_loss.backward()\n",
    "                \n",
    "                self.optimizer.step()\n",
    "\n",
    "                train_loss_ += train_loss.detach() * len(b_x)\n",
    "\n",
    "            train_loss_list.append(train_loss_ / len(train_X_neg))\n",
    "\n",
    "            # valid part\n",
    "            if trials:\n",
    "                valid_loss, valid_metric = self.test(valid_X, valid_y)\n",
    "                valid_loss_list.append(valid_loss)\n",
    "                if not early_stopper.is_continuable(valid_metric):\n",
    "                    break\n",
    "\n",
    "        if trials:\n",
    "            self.model.load_state_dict(early_stopper.best_state)\n",
    "            plt.plot(valid_loss_list, label='valid_loss')\n",
    "\n",
    "        plt.plot(train_loss_list, label='train_loss')\n",
    "        plt.legend()\n",
    "        plt.show()\n",
    "\n",
    "        print('train_loss: {:.5f} | train_metric: {:.5f}'.format(*self.test(train_X, train_y)))\n",
    "\n",
    "        if trials:\n",
    "            print('valid_loss: {:.5f} | valid_metric: {:.5f}'.format(*self.test(valid_X, valid_y)))"
   ]
  },
  {
   "cell_type": "code",
   "execution_count": 8,
   "metadata": {
    "execution": {
     "iopub.execute_input": "2021-07-10T07:05:30.289494Z",
     "iopub.status.busy": "2021-07-10T07:05:30.288960Z",
     "iopub.status.idle": "2021-07-10T07:23:23.105638Z",
     "shell.execute_reply": "2021-07-10T07:23:23.104619Z",
     "shell.execute_reply.started": "2021-07-10T07:05:30.289448Z"
    }
   },
   "outputs": [
    {
     "name": "stderr",
     "output_type": "stream",
     "text": [
      " 64%|██████▎   | 381/600 [17:51<10:15,  2.81s/it]\n"
     ]
    },
    {
     "data": {
      "image/png": "[encoded data removed]",
      "text/plain": [
       "<Figure size 432x288 with 1 Axes>"
      ]
     },
     "metadata": {
      "needs_background": "light"
     },
     "output_type": "display_data"
    },
    {
     "name": "stdout",
     "output_type": "stream",
     "text": [
      "train_loss: 0.65691 | train_metric: 0.62397\n",
      "valid_loss: 0.67315 | valid_metric: 0.60779\n",
      "test_loss:  0.67250 | test_auc:  0.60779\n",
      "CPU times: user 17min 41s, sys: 3.49 s, total: 17min 45s\n",
      "Wall time: 17min 52s\n"
     ]
    }
   ],
   "source": [
    "%%time\n",
    "\n",
    "EMBEDDING_DIM = 8\n",
    "LEARNING_RATE = 1e-4\n",
    "REGULARIZATION = 1e-6\n",
    "BATCH_SIZE = 4096\n",
    "EPOCH = 600\n",
    "TRIAL = 100\n",
    "\n",
    "dien = DeepInterestEvolutionNetwork(field_dims, EMBEDDING_DIM).to(device)\n",
    "optimizer = optim.Adam(dien.parameters(), lr=LEARNING_RATE, weight_decay=REGULARIZATION)\n",
    "criterion = nn.BCELoss()\n",
    "\n",
    "trainer = DIENTrainer(dien, optimizer, criterion, BATCH_SIZE)\n",
    "trainer.train(train_X_neg, train_y, epoch=EPOCH, trials=TRIAL, valid_X=valid_X, valid_y=valid_y)\n",
    "test_loss, test_metric = trainer.test(test_X, test_y)\n",
    "print('test_loss:  {:.5f} | test_auc:  {:.5f}'.format(test_loss, test_metric))"
   ]
  },
  {
   "cell_type": "code",
   "execution_count": null,
   "metadata": {},
   "outputs": [],
   "source": []
  },
  {
   "cell_type": "code",
   "execution_count": null,
   "metadata": {},
   "outputs": [],
   "source": []
  }
 ],
 "metadata": {
  "kernelspec": {
   "display_name": "Python 3",
   "language": "python",
   "name": "python3"
  },
  "language_info": {
   "codemirror_mode": {
    "name": "ipython",
    "version": 3
   },
   "file_extension": ".py",
   "mimetype": "text/x-python",
   "name": "python",
   "nbconvert_exporter": "python",
   "pygments_lexer": "ipython3",
   "version": "3.7.4"
  }
 },
 "nbformat": 4,
 "nbformat_minor": 4
}
