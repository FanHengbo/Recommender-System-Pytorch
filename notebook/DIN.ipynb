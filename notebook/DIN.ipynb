{
 "cells": [
  {
   "cell_type": "code",
   "execution_count": 3,
   "metadata": {
    "execution": {
     "iopub.execute_input": "2021-07-08T13:56:18.719492Z",
     "iopub.status.busy": "2021-07-08T13:56:18.719202Z",
     "iopub.status.idle": "2021-07-08T13:56:21.123690Z",
     "shell.execute_reply": "2021-07-08T13:56:21.122520Z",
     "shell.execute_reply.started": "2021-07-08T13:56:18.719465Z"
    }
   },
   "outputs": [
    {
     "name": "stdout",
     "output_type": "stream",
     "text": [
      "Training on [cuda:0].\n",
      "CPU times: user 740 ms, sys: 362 ms, total: 1.1 s\n",
      "Wall time: 2.39 s\n"
     ]
    }
   ],
   "source": [
    "%%time\n",
    "\n",
    "from utils.utils import create_dataset, Trainer\n",
    "from layer.layer import Embedding, FeaturesEmbedding, EmbeddingsInteraction, MultiLayerPerceptron\n",
    "\n",
    "import torch\n",
    "import torch.nn as nn\n",
    "import torch.optim as optim\n",
    "\n",
    "device = torch.device('cuda:0' if torch.cuda.is_available() else 'cpu')\n",
    "print('Training on [{}].'.format(device))\n"
   ]
  },
  {
   "cell_type": "code",
   "execution_count": 4,
   "metadata": {
    "execution": {
     "iopub.execute_input": "2021-07-08T13:56:21.126190Z",
     "iopub.status.busy": "2021-07-08T13:56:21.125760Z",
     "iopub.status.idle": "2021-07-08T13:57:25.364150Z",
     "shell.execute_reply": "2021-07-08T13:57:25.363113Z",
     "shell.execute_reply.started": "2021-07-08T13:56:21.126146Z"
    }
   },
   "outputs": [
    {
     "name": "stdout",
     "output_type": "stream",
     "text": [
      "CPU times: user 59.4 s, sys: 1.93 s, total: 1min 1s\n",
      "Wall time: 1min 4s\n"
     ]
    }
   ],
   "source": [
    "%%time\n",
    "\n",
    "dataset = create_dataset('amazon-books', sample_num=100000, sequence_length=40, device=device)\n",
    "field_dims, (train_X, train_y), (valid_X, valid_y), (test_X, test_y) = dataset.train_valid_test_split()\n"
   ]
  },
  {
   "cell_type": "code",
   "execution_count": 5,
   "metadata": {
    "execution": {
     "iopub.execute_input": "2021-07-08T13:57:25.366441Z",
     "iopub.status.busy": "2021-07-08T13:57:25.366006Z",
     "iopub.status.idle": "2021-07-08T13:57:25.392539Z",
     "shell.execute_reply": "2021-07-08T13:57:25.391137Z",
     "shell.execute_reply.started": "2021-07-08T13:57:25.366398Z"
    }
   },
   "outputs": [],
   "source": [
    "class BaseModel(nn.Module):\n",
    "    \n",
    "    def __init__(self, field_dims, embed_dim=4):\n",
    "        # 这里只用用户的行为序列作为特征，没用户数据\n",
    "        super(BaseModel, self).__init__()\n",
    "        \n",
    "        # 商品 embedding 层\n",
    "        self.embed = Embedding(field_dims[0], embed_dim)\n",
    "        self.mlp = MultiLayerPerceptron([embed_dim * 2, 200, 80, 1])\n",
    "        \n",
    "    def forward(self, x):\n",
    "        user_behaviors = x[:, :-1]\n",
    "        mask = (user_behaviors > 0).float().unsqueeze(-1)\n",
    "        avg = mask.mean(dim=1, keepdim=True)\n",
    "        weight = mask.mul(avg)\n",
    "        user_behaviors_embedding = self.embed(user_behaviors).mul(weight).sum(dim=1)\n",
    "        ad_embedding = self.embed(x[:,-1])\n",
    "        \n",
    "        concated = torch.hstack([user_behaviors_embedding, ad_embedding])\n",
    "        output = self.mlp(concated)\n",
    "        output = torch.sigmoid(output)\n",
    "        return output\n",
    "\n",
    "    \n",
    "class Dice(nn.Module):\n",
    "    \n",
    "    def __init__(self):\n",
    "        super(Dice, self).__init__()\n",
    "        self.alpha = nn.Parameter(torch.zeros((1, )))\n",
    "        \n",
    "    def forward(self, x):\n",
    "        avg = x.mean(dim=0)\n",
    "        std = x.std(dim=0)\n",
    "        norm_x = (x - avg) / std\n",
    "        p = torch.sigmoid(norm_x)\n",
    "\n",
    "        return x.mul(p) + self.alpha * x.mul(1 - p)\n",
    "\n",
    "\n",
    "class ActivationUnit(nn.Module):\n",
    "    \n",
    "    def __init__(self, embed_dim=4):\n",
    "        super(ActivationUnit, self).__init__()\n",
    "        self.mlp = nn.Sequential(\n",
    "            nn.Linear(embed_dim * (embed_dim + 2) , 36),\n",
    "            Dice(),\n",
    "            nn.Linear(36, 1),\n",
    "        )\n",
    "    \n",
    "    def forward(self, x):\n",
    "        behaviors = x[:, :-1]\n",
    "        num_behaviors = behaviors.shape[1]\n",
    "        \n",
    "        ads = x[:, [-1] * num_behaviors]\n",
    "        \n",
    "        # outer product\n",
    "        embed_dim = x.shape[-1]\n",
    "        i1, i2 = [], []\n",
    "        for i in range(embed_dim):\n",
    "            for j in range(embed_dim):\n",
    "                i1.append(i)\n",
    "                i2.append(j)\n",
    "        p = behaviors[:,:, i1].mul(ads[:,:, i2]).reshape(behaviors.shape[0], behaviors.shape[1], -1)\n",
    "        \n",
    "        att = self.mlp(torch.cat([behaviors, p, ads], dim=2))\n",
    "        return att\n",
    "        \n",
    "\n",
    "class DeepInterestNetwork(nn.Module):\n",
    "    \n",
    "    def __init__(self, field_dims, embed_dim=4):\n",
    "        super(DeepInterestNetwork, self).__init__()\n",
    "        # 商品 embedding 层\n",
    "        self.embed = Embedding(field_dims[0], embed_dim)\n",
    "        self.attention = ActivationUnit(embed_dim)\n",
    "        self.mlp = nn.Sequential(\n",
    "            nn.Linear(embed_dim * 2, 200),\n",
    "            Dice(),\n",
    "            nn.Linear(200, 80),\n",
    "            Dice(),\n",
    "            nn.Linear(80, 1)\n",
    "        )\n",
    "        \n",
    "    def forward(self, x):\n",
    "        mask = (x > 0).float().unsqueeze(-1)  # (batch_size, num_behaviors+1, 1)\n",
    "        behaviors_ad_embeddings = self.embed(x).mul(mask)  # (batch_size, num_behaviors+1, embed_dim)\n",
    "        att = self.attention(behaviors_ad_embeddings)  # (batch_size, num_behaviors, 1)\n",
    "        \n",
    "        weighted_behaviors = behaviors_ad_embeddings[:, :-1].mul(mask[:, :-1]).mul(att)  # (batch_size, num_behaviors, embed_dim)\n",
    "        user_interest = weighted_behaviors.sum(dim=1)  # (batch_size, embed_dim)\n",
    "        \n",
    "        concated = torch.hstack([user_interest, behaviors_ad_embeddings[:, -1]])\n",
    "        output = self.mlp(concated)\n",
    "        output = torch.sigmoid(output)\n",
    "        return output\n"
   ]
  },
  {
   "cell_type": "code",
   "execution_count": 6,
   "metadata": {
    "execution": {
     "iopub.execute_input": "2021-07-08T13:57:25.395017Z",
     "iopub.status.busy": "2021-07-08T13:57:25.394529Z",
     "iopub.status.idle": "2021-07-08T13:58:07.147769Z",
     "shell.execute_reply": "2021-07-08T13:58:07.146527Z",
     "shell.execute_reply.started": "2021-07-08T13:57:25.394972Z"
    }
   },
   "outputs": [
    {
     "name": "stderr",
     "output_type": "stream",
     "text": [
      " 40%|████      | 242/600 [00:41<01:01,  5.84it/s]\n"
     ]
    },
    {
     "data": {
      "image/png": "[encoded data removed]",
      "text/plain": [
       "<Figure size 432x288 with 1 Axes>"
      ]
     },
     "metadata": {
      "needs_background": "light"
     },
     "output_type": "display_data"
    },
    {
     "name": "stdout",
     "output_type": "stream",
     "text": [
      "train_loss: 0.64894 | train_metric: 0.63256\n",
      "valid_loss: 0.67767 | valid_metric: 0.60572\n",
      "test_loss:  0.67745 | test_auc:  0.60432\n",
      "CPU times: user 40.2 s, sys: 881 ms, total: 41.1 s\n",
      "Wall time: 41.7 s\n"
     ]
    }
   ],
   "source": [
    "%%time\n",
    "\n",
    "EMBEDDING_DIM = 8\n",
    "LEARNING_RATE = 1e-4\n",
    "REGULARIZATION = 1e-6\n",
    "BATCH_SIZE = 4096\n",
    "EPOCH = 600\n",
    "TRIAL = 100\n",
    "\n",
    "bm = BaseModel(field_dims, EMBEDDING_DIM).to(device)\n",
    "optimizer = optim.Adam(bm.parameters(), lr=LEARNING_RATE, weight_decay=REGULARIZATION)\n",
    "criterion = nn.BCELoss()\n",
    "\n",
    "trainer = Trainer(bm, optimizer, criterion, BATCH_SIZE)\n",
    "trainer.train(train_X, train_y, epoch=EPOCH, trials=TRIAL, valid_X=valid_X, valid_y=valid_y)\n",
    "test_loss, test_metric = trainer.test(test_X, test_y)\n",
    "print('test_loss:  {:.5f} | test_auc:  {:.5f}'.format(test_loss, test_metric))\n"
   ]
  },
  {
   "cell_type": "code",
   "execution_count": 7,
   "metadata": {
    "execution": {
     "iopub.execute_input": "2021-07-08T13:58:07.149794Z",
     "iopub.status.busy": "2021-07-08T13:58:07.149376Z",
     "iopub.status.idle": "2021-07-08T14:00:43.915382Z",
     "shell.execute_reply": "2021-07-08T14:00:43.914183Z",
     "shell.execute_reply.started": "2021-07-08T13:58:07.149750Z"
    }
   },
   "outputs": [
    {
     "name": "stderr",
     "output_type": "stream",
     "text": [
      " 28%|██▊       | 168/600 [02:36<06:42,  1.07it/s]\n"
     ]
    },
    {
     "data": {
      "image/png": "[encoded data removed]",
      "text/plain": [
       "<Figure size 432x288 with 1 Axes>"
      ]
     },
     "metadata": {
      "needs_background": "light"
     },
     "output_type": "display_data"
    },
    {
     "name": "stdout",
     "output_type": "stream",
     "text": [
      "train_loss: 0.65741 | train_metric: 0.62400\n",
      "valid_loss: 0.67093 | valid_metric: 0.60647\n",
      "test_loss:  0.67118 | test_auc:  0.60546\n",
      "CPU times: user 2min 35s, sys: 661 ms, total: 2min 36s\n",
      "Wall time: 2min 36s\n"
     ]
    }
   ],
   "source": [
    "%%time\n",
    "\n",
    "EMBEDDING_DIM = 8\n",
    "LEARNING_RATE = 1e-4\n",
    "REGULARIZATION = 1e-6\n",
    "BATCH_SIZE = 4096\n",
    "EPOCH = 600\n",
    "TRIAL = 100\n",
    "\n",
    "din = DeepInterestNetwork(field_dims, EMBEDDING_DIM).to(device)\n",
    "optimizer = optim.Adam(din.parameters(), lr=LEARNING_RATE, weight_decay=REGULARIZATION)\n",
    "criterion = nn.BCELoss()\n",
    "\n",
    "trainer = Trainer(din, optimizer, criterion, BATCH_SIZE)\n",
    "trainer.train(train_X, train_y, epoch=EPOCH, trials=TRIAL, valid_X=valid_X, valid_y=valid_y)\n",
    "test_loss, test_metric = trainer.test(test_X, test_y)\n",
    "print('test_loss:  {:.5f} | test_auc:  {:.5f}'.format(test_loss, test_metric))\n"
   ]
  },
  {
   "cell_type": "code",
   "execution_count": null,
   "metadata": {},
   "outputs": [],
   "source": []
  }
 ],
 "metadata": {
  "kernelspec": {
   "display_name": "Python 3",
   "language": "python",
   "name": "python3"
  },
  "language_info": {
   "codemirror_mode": {
    "name": "ipython",
    "version": 3
   },
   "file_extension": ".py",
   "mimetype": "text/x-python",
   "name": "python",
   "nbconvert_exporter": "python",
   "pygments_lexer": "ipython3",
   "version": "3.7.4"
  }
 },
 "nbformat": 4,
 "nbformat_minor": 4
}