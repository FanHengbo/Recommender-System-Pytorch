{
 "cells": [
  {
   "cell_type": "code",
   "execution_count": 1,
   "metadata": {
    "scrolled": true
   },
   "outputs": [
    {
     "name": "stdout",
     "output_type": "stream",
     "text": [
      "Training on [cpu].\n",
      "CPU times: user 1.87 s, sys: 458 ms, total: 2.32 s\n",
      "Wall time: 1.36 s\n"
     ]
    }
   ],
   "source": [
    "%%time\n",
    "\n",
    "from utils.utils import create_dataset, Trainer\n",
    "from layer.layer import Embedding, FeaturesEmbedding, EmbeddingsInteraction, MultiLayerPerceptron\n",
    "\n",
    "import torch\n",
    "import torch.nn as nn\n",
    "import torch.optim as optim\n",
    "\n",
    "from lightgbm import LGBMClassifier\n",
    "from sklearn.preprocessing import OneHotEncoder\n",
    "\n",
    "device = torch.device('cuda:0' if torch.cuda.is_available() else 'cpu')\n",
    "print('Training on [{}].'.format(device))\n"
   ]
  },
  {
   "cell_type": "code",
   "execution_count": 2,
   "metadata": {},
   "outputs": [
    {
     "name": "stdout",
     "output_type": "stream",
     "text": [
      "CPU times: user 4.08 s, sys: 297 ms, total: 4.38 s\n",
      "Wall time: 4.38 s\n"
     ]
    }
   ],
   "source": [
    "%%time\n",
    "\n",
    "dataset = create_dataset('criteo', sample_num=100000, device=device)\n",
    "field_dims, (train_X, train_y), (valid_X, valid_y), (test_X, test_y) = dataset.train_valid_test_split()\n"
   ]
  },
  {
   "cell_type": "code",
   "execution_count": 3,
   "metadata": {},
   "outputs": [],
   "source": [
    "lgbm = LGBMClassifier(\n",
    "    learning_rate=0.1,\n",
    "    n_estimators=10230,\n",
    "    num_leaves=31,\n",
    "    max_depth=7,\n",
    "    subsample=0.8,\n",
    "    colsample_bytree=0.8, \n",
    "    metric='auc',\n",
    "    objective='binary'\n",
    ")\n"
   ]
  },
  {
   "cell_type": "code",
   "execution_count": 4,
   "metadata": {},
   "outputs": [],
   "source": [
    "def transform(lgbm, train_X, train_y, valid_X, valid_y, test_X, test_y):\n",
    "    train_X, train_y, valid_X, valid_y, test_X, test_y =\\\n",
    "        train_X.to(device), train_y.to(device), valid_X.to(device),\\\n",
    "        valid_y.to(device), test_X.to(device), test_y.to(device)\n",
    "    \n",
    "    # One-hot Encoding\n",
    "    ohe = OneHotEncoder()\n",
    "    sparse_mat = ohe.fit_transform(np.vstack([train_X, valid_X, test_X]))\n",
    "    train_len, valid_len, test_len = len(train_X), len(valid_X), len(test_X)\n",
    "    sparse_train_X = sparse_mat[:train_len]\n",
    "    sparse_valid_X = sparse_mat[train_len: -test_len]\n",
    "    sparse_test_X = sparse_mat[-test_len:]\n",
    "    \n",
    "    # lgbm fit transoform\n",
    "    lgbm.fit(sparse_train_X, train_y, eval_set=[(sparse_valid_X, valid_y)], verbose=100, early_stopping_rounds=100)\n",
    "    fusion_train_X = np.hstack([lgbm.predict(sparse_train_X, pred_leaf=True), train_X])\n",
    "    fusion_valid_X = np.hstack([lgbm.predict(sparse_valid_X, pred_leaf=True), valid_X])\n",
    "    fusion_test_X = np.hstack([lgbm.predict(sparse_test_X, pred_leaf=True), test_X])\n",
    "    fusion_field_dims = (np.vstack([fusion_train_X, fusion_valid_X, fusion_test_X]).max(axis=0) + 1).tolist()\n",
    "    \n",
    "    fusion_train_X = torch.tensor(fusion_train_X, dtype=torch.long).to(device)\n",
    "    fusion_valid_X = torch.tensor(fusion_valid_X, dtype=torch.long).to(device)\n",
    "    fusion_test_X = torch.tensor(fusion_test_X, dtype=torch.long).to(device)\n",
    "    return fusion_field_dims, fusion_train_X, fusion_valid_X, fusion_test_X\n"
   ]
  },
  {
   "cell_type": "code",
   "execution_count": 5,
   "metadata": {},
   "outputs": [],
   "source": [
    "class LogisticRegression(nn.Module):\n",
    "    \n",
    "    def __init__(self, field_dims):\n",
    "        super(LogisticRegression, self).__init__()\n",
    "        \n",
    "        self.bias = nn.Parameter(torch.zeros((1, )))\n",
    "        self.embed = FeaturesEmbedding(field_dims, 1)\n",
    "\n",
    "    def forward(self, x):\n",
    "        # x shape: (batch_size, num_fields)\n",
    "        output = self.embed(x).sum(dim=1) + self.bias\n",
    "        output = torch.sigmoid(output)\n",
    "        return output\n"
   ]
  },
  {
   "cell_type": "code",
   "execution_count": 6,
   "metadata": {},
   "outputs": [
    {
     "name": "stderr",
     "output_type": "stream",
     "text": [
      "/usr/local/lib/python3.7/site-packages/sklearn/utils/validation.py:63: DataConversionWarning: A column-vector y was passed when a 1d array was expected. Please change the shape of y to (n_samples, ), for example using ravel().\n",
      "  return f(*args, **kwargs)\n"
     ]
    },
    {
     "name": "stdout",
     "output_type": "stream",
     "text": [
      "[LightGBM] [Warning] Accuracy may be bad since you didn't explicitly set num_leaves OR 2^max_depth > num_leaves. (num_leaves=31).\n",
      "Training until validation scores don't improve for 100 rounds\n",
      "[100]\tvalid_0's auc: 0.743871\n",
      "[200]\tvalid_0's auc: 0.749403\n",
      "[300]\tvalid_0's auc: 0.752053\n",
      "[400]\tvalid_0's auc: 0.754077\n",
      "[500]\tvalid_0's auc: 0.754923\n",
      "[600]\tvalid_0's auc: 0.755349\n",
      "[700]\tvalid_0's auc: 0.755947\n",
      "[800]\tvalid_0's auc: 0.756366\n",
      "[900]\tvalid_0's auc: 0.756653\n",
      "Early stopping, best iteration is:\n",
      "[889]\tvalid_0's auc: 0.756748\n"
     ]
    },
    {
     "name": "stderr",
     "output_type": "stream",
     "text": [
      " 30%|██▉       | 179/600 [01:48<04:15,  1.65it/s]\n"
     ]
    },
    {
     "data": {
      "image/png": "[encoded data removed]",
      "text/plain": [
       "<Figure size 432x288 with 1 Axes>"
      ]
     },
     "metadata": {
      "needs_background": "light"
     },
     "output_type": "display_data"
    },
    {
     "name": "stdout",
     "output_type": "stream",
     "text": [
      "train_loss: 0.37077 | train_metric: 0.87436\n",
      "valid_loss: 0.45937 | valid_metric: 0.76450\n",
      "test_loss:  0.44324 | test_auc:  0.77266\n",
      "CPU times: user 10min 22s, sys: 22.9 s, total: 10min 44s\n",
      "Wall time: 2min 2s\n"
     ]
    }
   ],
   "source": [
    "%%time\n",
    "\n",
    "field_dims, train_X, valid_X, test_X = transform(lgbm, train_X, train_y, valid_X, valid_y, test_X, test_y)\n",
    "\n",
    "LEARNING_RATE = 1e-4\n",
    "REGULARIZATION = 1e-6\n",
    "BATCH_SIZE = 4096\n",
    "EPOCH = 600\n",
    "TRIAL = 100\n",
    "\n",
    "lr = LogisticRegression(field_dims).to(device)\n",
    "optimizer = optim.Adam(lr.parameters(), lr=LEARNING_RATE, weight_decay=REGULARIZATION)\n",
    "criterion = nn.BCELoss()\n",
    "\n",
    "trainer = Trainer(lr, optimizer, criterion, BATCH_SIZE)\n",
    "trainer.train(train_X, train_y, epoch=EPOCH, trials=TRIAL, valid_X=valid_X, valid_y=valid_y)\n",
    "test_loss, test_auc = trainer.test(test_X, test_y)\n",
    "print('test_loss:  {:.5f} | test_auc:  {:.5f}'.format(test_loss, test_auc))\n"
   ]
  },
  {
   "cell_type": "code",
   "execution_count": null,
   "metadata": {},
   "outputs": [],
   "source": []
  }
 ],
 "metadata": {
  "kernelspec": {
   "display_name": "Python 3",
   "language": "python",
   "name": "python3"
  },
  "language_info": {
   "codemirror_mode": {
    "name": "ipython",
    "version": 3
   },
   "file_extension": ".py",
   "mimetype": "text/x-python",
   "name": "python",
   "nbconvert_exporter": "python",
   "pygments_lexer": "ipython3",
   "version": "3.7.4"
  }
 },
 "nbformat": 4,
 "nbformat_minor": 4
}