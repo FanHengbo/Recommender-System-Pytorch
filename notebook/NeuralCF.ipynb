{
 "cells": [
  {
   "cell_type": "code",
   "execution_count": 3,
   "metadata": {
    "execution": {
     "iopub.execute_input": "2021-07-06T16:23:20.445494Z",
     "iopub.status.busy": "2021-07-06T16:23:20.444947Z",
     "iopub.status.idle": "2021-07-06T16:23:22.383052Z",
     "shell.execute_reply": "2021-07-06T16:23:22.382210Z",
     "shell.execute_reply.started": "2021-07-06T16:23:20.445459Z"
    }
   },
   "outputs": [
    {
     "name": "stdout",
     "output_type": "stream",
     "text": [
      "Training on [cuda:0].\n",
      "CPU times: user 630 ms, sys: 246 ms, total: 876 ms\n",
      "Wall time: 1.92 s\n"
     ]
    }
   ],
   "source": [
    "%%time\n",
    "\n",
    "from utils.utils import create_dataset, Trainer\n",
    "from layer.layer import Embedding, FeaturesEmbedding, EmbeddingsInteraction, MultiLayerPerceptron\n",
    "\n",
    "import torch\n",
    "import torch.nn as nn\n",
    "import torch.optim as optim\n",
    "\n",
    "device = torch.device('cuda:0' if torch.cuda.is_available() else 'cpu')\n",
    "print('Training on [{}].'.format(device))\n"
   ]
  },
  {
   "cell_type": "code",
   "execution_count": 4,
   "metadata": {
    "execution": {
     "iopub.execute_input": "2021-07-06T16:23:22.385136Z",
     "iopub.status.busy": "2021-07-06T16:23:22.384522Z",
     "iopub.status.idle": "2021-07-06T16:23:27.848997Z",
     "shell.execute_reply": "2021-07-06T16:23:27.848067Z",
     "shell.execute_reply.started": "2021-07-06T16:23:22.385098Z"
    }
   },
   "outputs": [
    {
     "name": "stdout",
     "output_type": "stream",
     "text": [
      "CPU times: user 2.59 s, sys: 760 ms, total: 3.35 s\n",
      "Wall time: 5.46 s\n"
     ]
    }
   ],
   "source": [
    "%%time\n",
    "\n",
    "task = 'classification'\n",
    "dataset = create_dataset('movielens', sample_num=1000000, task=task, device=device)\n",
    "field_dims, (train_X, train_y), (valid_X, valid_y), (test_X, test_y) = dataset.train_valid_test_split()\n"
   ]
  },
  {
   "cell_type": "code",
   "execution_count": 5,
   "metadata": {
    "execution": {
     "iopub.execute_input": "2021-07-06T16:23:27.850694Z",
     "iopub.status.busy": "2021-07-06T16:23:27.850209Z",
     "iopub.status.idle": "2021-07-06T16:23:27.859298Z",
     "shell.execute_reply": "2021-07-06T16:23:27.858254Z",
     "shell.execute_reply.started": "2021-07-06T16:23:27.850656Z"
    }
   },
   "outputs": [],
   "source": [
    "class NeuralCollaborativeFiltering(nn.Module):\n",
    "    \n",
    "    def __init__(self, field_dims, embed_dim=4):\n",
    "        super(NeuralCollaborativeFiltering, self).__init__()\n",
    "        self.embed1 = FeaturesEmbedding(field_dims, embed_dim)\n",
    "        self.embed2 = FeaturesEmbedding(field_dims, embed_dim)\n",
    "        \n",
    "        self.mlp = MultiLayerPerceptron([len(field_dims) * embed_dim, 128, 64])\n",
    "        self.fc = nn.Linear(embed_dim + 64, 1)\n",
    "        \n",
    "    def forward(self, x):\n",
    "        embeddings1 = self.embed1(x)\n",
    "        gmf_output = embeddings1[:, 0].mul(embeddings1[:, 1]).squeeze(-1)\n",
    "        \n",
    "        embeddings2 = self.embed2(x)\n",
    "        mlp_input = embeddings2.reshape(x.shape[0], -1)\n",
    "        mlp_output = self.mlp(mlp_input)\n",
    "        \n",
    "        concated = torch.hstack([gmf_output, mlp_output])\n",
    "        output = self.fc(concated)\n",
    "        output = torch.sigmoid(output)\n",
    "        return output\n"
   ]
  },
  {
   "cell_type": "code",
   "execution_count": 6,
   "metadata": {
    "execution": {
     "iopub.execute_input": "2021-07-06T16:23:27.860847Z",
     "iopub.status.busy": "2021-07-06T16:23:27.860489Z",
     "iopub.status.idle": "2021-07-06T16:23:39.847402Z",
     "shell.execute_reply": "2021-07-06T16:23:39.846357Z",
     "shell.execute_reply.started": "2021-07-06T16:23:27.860812Z"
    }
   },
   "outputs": [
    {
     "name": "stderr",
     "output_type": "stream",
     "text": [
      " 18%|█▊        | 106/600 [00:11<00:53,  9.19it/s]\n"
     ]
    },
    {
     "data": {
      "image/png": "[encoded data removed]",
      "text/plain": [
       "<Figure size 432x288 with 1 Axes>"
      ]
     },
     "metadata": {
      "needs_background": "light"
     },
     "output_type": "display_data"
    },
    {
     "name": "stdout",
     "output_type": "stream",
     "text": [
      "train_loss: 0.46550 | train_metric: 0.85316\n",
      "valid_loss: 0.53598 | valid_metric: 0.78555\n",
      "test_loss:  0.53254 | test_metric:  0.79464\n",
      "CPU times: user 11.2 s, sys: 246 ms, total: 11.4 s\n",
      "Wall time: 12 s\n"
     ]
    }
   ],
   "source": [
    "%%time\n",
    "\n",
    "EMBEDDING_DIM = 8\n",
    "LEARNING_RATE = 1e-4\n",
    "REGULARIZATION = 1e-6\n",
    "BATCH_SIZE = 4096\n",
    "EPOCH = 600\n",
    "TRIAL = 100\n",
    "\n",
    "ncf = NeuralCollaborativeFiltering(field_dims, EMBEDDING_DIM).to(device)\n",
    "optimizer = optim.Adam(ncf.parameters(), lr=LEARNING_RATE, weight_decay=REGULARIZATION)\n",
    "criterion = nn.BCELoss()\n",
    "\n",
    "trainer = Trainer(ncf, optimizer, criterion, BATCH_SIZE, task=task)\n",
    "trainer.train(train_X, train_y, epoch=EPOCH, trials=TRIAL, valid_X=valid_X, valid_y=valid_y)\n",
    "test_loss, test_metric = trainer.test(test_X, test_y)\n",
    "print('test_loss:  {:.5f} | test_metric:  {:.5f}'.format(test_loss, test_metric))\n"
   ]
  },
  {
   "cell_type": "code",
   "execution_count": null,
   "metadata": {},
   "outputs": [],
   "source": []
  }
 ],
 "metadata": {
  "kernelspec": {
   "display_name": "Python 3",
   "language": "python",
   "name": "python3"
  },
  "language_info": {
   "codemirror_mode": {
    "name": "ipython",
    "version": 3
   },
   "file_extension": ".py",
   "mimetype": "text/x-python",
   "name": "python",
   "nbconvert_exporter": "python",
   "pygments_lexer": "ipython3",
   "version": "3.7.4"
  }
 },
 "nbformat": 4,
 "nbformat_minor": 4
}