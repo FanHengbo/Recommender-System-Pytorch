{
 "cells": [
  {
   "cell_type": "code",
   "execution_count": 3,
   "metadata": {
    "execution": {
     "iopub.execute_input": "2021-07-06T15:56:13.857160Z",
     "iopub.status.busy": "2021-07-06T15:56:13.856806Z",
     "iopub.status.idle": "2021-07-06T15:56:16.317716Z",
     "shell.execute_reply": "2021-07-06T15:56:16.316582Z",
     "shell.execute_reply.started": "2021-07-06T15:56:13.857130Z"
    }
   },
   "outputs": [
    {
     "name": "stdout",
     "output_type": "stream",
     "text": [
      "Training on [cuda:0].\n",
      "CPU times: user 692 ms, sys: 325 ms, total: 1.02 s\n",
      "Wall time: 2.45 s\n"
     ]
    }
   ],
   "source": [
    "%%time\n",
    "\n",
    "from utils.utils import create_dataset, Trainer\n",
    "from layer.layer import Embedding, FeaturesEmbedding, EmbeddingsInteraction, MultiLayerPerceptron\n",
    "\n",
    "import torch\n",
    "import torch.nn as nn\n",
    "import torch.optim as optim\n",
    "\n",
    "device = torch.device('cuda:0' if torch.cuda.is_available() else 'cpu')\n",
    "print('Training on [{}].'.format(device))\n"
   ]
  },
  {
   "cell_type": "code",
   "execution_count": 4,
   "metadata": {
    "execution": {
     "iopub.execute_input": "2021-07-06T15:56:16.320635Z",
     "iopub.status.busy": "2021-07-06T15:56:16.319786Z",
     "iopub.status.idle": "2021-07-06T15:56:27.099643Z",
     "shell.execute_reply": "2021-07-06T15:56:27.098051Z",
     "shell.execute_reply.started": "2021-07-06T15:56:16.320570Z"
    }
   },
   "outputs": [
    {
     "name": "stdout",
     "output_type": "stream",
     "text": [
      "CPU times: user 6.76 s, sys: 1.27 s, total: 8.03 s\n",
      "Wall time: 10.8 s\n"
     ]
    }
   ],
   "source": [
    "%%time\n",
    "\n",
    "dataset = create_dataset('criteo', sample_num=100000, device=device)\n",
    "field_dims, (train_X, train_y), (valid_X, valid_y), (test_X, test_y) = dataset.train_valid_test_split()\n"
   ]
  },
  {
   "cell_type": "code",
   "execution_count": 5,
   "metadata": {
    "execution": {
     "iopub.execute_input": "2021-07-06T15:56:27.105302Z",
     "iopub.status.busy": "2021-07-06T15:56:27.104834Z",
     "iopub.status.idle": "2021-07-06T15:56:27.128425Z",
     "shell.execute_reply": "2021-07-06T15:56:27.127214Z",
     "shell.execute_reply.started": "2021-07-06T15:56:27.105257Z"
    }
   },
   "outputs": [],
   "source": [
    "class AttentionNet(nn.Module):\n",
    "    \n",
    "    def __init__(self, embed_dim=4, t=4):\n",
    "        super(AttentionNet, self).__init__()\n",
    "        \n",
    "        self.an = nn.Sequential(\n",
    "            nn.Linear(embed_dim, t),  # (batch_size, num_crosses, t), num_crosses = num_fields*(num_fields-1)//2\n",
    "            nn.ReLU(),\n",
    "            nn.Linear(t, 1, bias=False), # (batch_size, num_crosses, 1)\n",
    "            nn.Flatten(),  # (batch_size, num_crosses)\n",
    "            nn.Softmax(dim=1)\n",
    "        )\n",
    "        \n",
    "    def forward(self, x):\n",
    "        return self.an(x)\n",
    "\n",
    "\n",
    "class AttentionalFactorizationMachine(nn.Module):\n",
    "    \n",
    "    def __init__(self, field_dims, embed_dim=4):\n",
    "        super(AttentionalFactorizationMachine, self).__init__()\n",
    "        \n",
    "        num_fields = len(field_dims)\n",
    "        \n",
    "        self.w0 = nn.Parameter(torch.zeros((1, )))\n",
    "        \n",
    "        self.embed1 = FeaturesEmbedding(field_dims, 1)\n",
    "        self.embed2 = FeaturesEmbedding(field_dims, embed_dim)\n",
    "        self.interact = EmbeddingsInteraction()\n",
    "        \n",
    "        self.attention = AttentionNet(embed_dim)\n",
    "        self.p = nn.Parameter(torch.zeros(embed_dim, ))\n",
    "        nn.init.xavier_uniform_(self.p.unsqueeze(0).data)\n",
    "                \n",
    "    def forward(self, x):\n",
    "        # x size: (batch_size, num_fields)\n",
    "        # embed(x) size: (batch_size, num_fields, embed_dim)\n",
    "\n",
    "        embeddings = self.embed2(x)\n",
    "        interactions = self.interact(embeddings)\n",
    "        \n",
    "        att = self.attention(interactions)\n",
    "        att_part = interactions.mul(att.unsqueeze(-1)).sum(dim=1).mul(self.p).sum(dim=1, keepdim=True)\n",
    "        \n",
    "        output = self.w0 + self.embed1(x).sum(dim=1) + att_part\n",
    "        output = torch.sigmoid(output)\n",
    "        \n",
    "        return output\n",
    "\n"
   ]
  },
  {
   "cell_type": "code",
   "execution_count": 6,
   "metadata": {
    "execution": {
     "iopub.execute_input": "2021-07-06T15:56:27.138207Z",
     "iopub.status.busy": "2021-07-06T15:56:27.134616Z",
     "iopub.status.idle": "2021-07-06T16:06:09.965740Z",
     "shell.execute_reply": "2021-07-06T16:06:09.964658Z",
     "shell.execute_reply.started": "2021-07-06T15:56:27.138161Z"
    }
   },
   "outputs": [
    {
     "name": "stderr",
     "output_type": "stream",
     "text": [
      " 53%|█████▎    | 319/600 [09:42<08:32,  1.83s/it]\n"
     ]
    },
    {
     "data": {
      "image/png": "[encoded data removed]",
      "text/plain": [
       "<Figure size 432x288 with 1 Axes>"
      ]
     },
     "metadata": {
      "needs_background": "light"
     },
     "output_type": "display_data"
    },
    {
     "name": "stdout",
     "output_type": "stream",
     "text": [
      "train_loss: 0.34157 | train_metric: 0.90846\n",
      "valid_loss: 0.46385 | valid_metric: 0.75687\n",
      "test_loss:  0.44798 | test_auc:  0.76592\n",
      "CPU times: user 9min 38s, sys: 1.53 s, total: 9min 39s\n",
      "Wall time: 9min 42s\n"
     ]
    }
   ],
   "source": [
    "%%time\n",
    "\n",
    "EMBEDDING_DIM = 8\n",
    "LEARNING_RATE = 1e-4\n",
    "REGULARIZATION = 1e-6\n",
    "BATCH_SIZE = 4096\n",
    "EPOCH = 600\n",
    "TRIAL = 100\n",
    "\n",
    "afm = AttentionalFactorizationMachine(field_dims, EMBEDDING_DIM).to(device)\n",
    "optimizer = optim.Adam(afm.parameters(), lr=LEARNING_RATE, weight_decay=REGULARIZATION)\n",
    "criterion = nn.BCELoss()\n",
    "\n",
    "trainer = Trainer(afm, optimizer, criterion, BATCH_SIZE)\n",
    "trainer.train(train_X, train_y, epoch=EPOCH, trials=TRIAL, valid_X=valid_X, valid_y=valid_y)\n",
    "test_loss, test_auc = trainer.test(test_X, test_y)\n",
    "print('test_loss:  {:.5f} | test_auc:  {:.5f}'.format(test_loss, test_auc))\n"
   ]
  },
  {
   "cell_type": "code",
   "execution_count": null,
   "metadata": {},
   "outputs": [],
   "source": []
  }
 ],
 "metadata": {
  "kernelspec": {
   "display_name": "Python 3",
   "language": "python",
   "name": "python3"
  },
  "language_info": {
   "codemirror_mode": {
    "name": "ipython",
    "version": 3
   },
   "file_extension": ".py",
   "mimetype": "text/x-python",
   "name": "python",
   "nbconvert_exporter": "python",
   "pygments_lexer": "ipython3",
   "version": "3.7.4"
  }
 },
 "nbformat": 4,
 "nbformat_minor": 4
}