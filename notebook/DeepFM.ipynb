{
 "cells": [
  {
   "cell_type": "code",
   "execution_count": 3,
   "metadata": {
    "execution": {
     "iopub.execute_input": "2021-07-06T16:18:01.054734Z",
     "iopub.status.busy": "2021-07-06T16:18:01.054281Z",
     "iopub.status.idle": "2021-07-06T16:18:03.029645Z",
     "shell.execute_reply": "2021-07-06T16:18:03.028696Z",
     "shell.execute_reply.started": "2021-07-06T16:18:01.054696Z"
    }
   },
   "outputs": [
    {
     "name": "stdout",
     "output_type": "stream",
     "text": [
      "Training on [cuda:0].\n",
      "CPU times: user 735 ms, sys: 276 ms, total: 1.01 s\n",
      "Wall time: 1.97 s\n"
     ]
    }
   ],
   "source": [
    "%%time\n",
    "\n",
    "from utils.utils import create_dataset, Trainer\n",
    "from layer.layer import Embedding, FeaturesEmbedding, EmbeddingsInteraction, MultiLayerPerceptron\n",
    "\n",
    "import torch\n",
    "import torch.nn as nn\n",
    "import torch.optim as optim\n",
    "\n",
    "device = torch.device('cuda:0' if torch.cuda.is_available() else 'cpu')\n",
    "print('Training on [{}].'.format(device))\n"
   ]
  },
  {
   "cell_type": "code",
   "execution_count": 4,
   "metadata": {
    "execution": {
     "iopub.execute_input": "2021-07-06T16:18:03.033443Z",
     "iopub.status.busy": "2021-07-06T16:18:03.033124Z",
     "iopub.status.idle": "2021-07-06T16:18:12.229150Z",
     "shell.execute_reply": "2021-07-06T16:18:12.228332Z",
     "shell.execute_reply.started": "2021-07-06T16:18:03.033416Z"
    }
   },
   "outputs": [
    {
     "name": "stdout",
     "output_type": "stream",
     "text": [
      "CPU times: user 6.25 s, sys: 954 ms, total: 7.2 s\n",
      "Wall time: 9.19 s\n"
     ]
    }
   ],
   "source": [
    "%%time\n",
    "\n",
    "dataset = create_dataset('criteo', sample_num=100000, device=device)\n",
    "field_dims, (train_X, train_y), (valid_X, valid_y), (test_X, test_y) = dataset.train_valid_test_split()\n"
   ]
  },
  {
   "cell_type": "code",
   "execution_count": 5,
   "metadata": {
    "execution": {
     "iopub.execute_input": "2021-07-06T16:18:12.230812Z",
     "iopub.status.busy": "2021-07-06T16:18:12.230479Z",
     "iopub.status.idle": "2021-07-06T16:18:12.240567Z",
     "shell.execute_reply": "2021-07-06T16:18:12.239823Z",
     "shell.execute_reply.started": "2021-07-06T16:18:12.230775Z"
    }
   },
   "outputs": [],
   "source": [
    "class DeepFM(nn.Module):\n",
    "    \n",
    "    def __init__(self, field_dims, embed_dim=4):\n",
    "        super(DeepFM, self).__init__()\n",
    "        \n",
    "        num_fileds = len(field_dims)\n",
    "        \n",
    "        self.embed1 = FeaturesEmbedding(field_dims, 1)\n",
    "        self.embed2 = FeaturesEmbedding(field_dims, embed_dim)\n",
    "        \n",
    "        self.fm = EmbeddingsInteraction()\n",
    "        \n",
    "        self.deep = MultiLayerPerceptron([embed_dim * num_fileds, 128, 64, 32])\n",
    "        self.fc = nn.Linear(1 + num_fileds * (num_fileds - 1) // 2 + 32, 1)\n",
    "\n",
    "    def forward(self, x):\n",
    "        # x shape: (batch_size, num_fields)\n",
    "        # embed(x) shape: (batch_size, num_fields, embed_dim)\n",
    "\n",
    "        embeddings = self.embed2(x)\n",
    "        embeddings_cross = self.fm(embeddings).sum(dim=-1)\n",
    "        deep_output = self.deep(embeddings.reshape(x.shape[0], -1))\n",
    "        \n",
    "        stacked = torch.hstack([self.embed1(x).sum(dim=1), embeddings_cross, deep_output])\n",
    "        output = self.fc(stacked)\n",
    "        output = torch.sigmoid(output)\n",
    "        return output\n"
   ]
  },
  {
   "cell_type": "code",
   "execution_count": 6,
   "metadata": {
    "execution": {
     "iopub.execute_input": "2021-07-06T16:18:12.242561Z",
     "iopub.status.busy": "2021-07-06T16:18:12.241660Z",
     "iopub.status.idle": "2021-07-06T16:19:00.138803Z",
     "shell.execute_reply": "2021-07-06T16:19:00.137957Z",
     "shell.execute_reply.started": "2021-07-06T16:18:12.242522Z"
    }
   },
   "outputs": [
    {
     "name": "stderr",
     "output_type": "stream",
     "text": [
      " 17%|█▋        | 103/600 [00:47<03:49,  2.17it/s]\n"
     ]
    },
    {
     "data": {
      "image/png": "[encoded data removed]",
      "text/plain": [
       "<Figure size 432x288 with 1 Axes>"
      ]
     },
     "metadata": {
      "needs_background": "light"
     },
     "output_type": "display_data"
    },
    {
     "name": "stdout",
     "output_type": "stream",
     "text": [
      "train_loss: 0.65296 | train_metric: 0.91730\n",
      "valid_loss: 0.66251 | valid_metric: 0.74479\n",
      "test_loss:  0.66119 | test_auc:  0.75679\n",
      "CPU times: user 46.9 s, sys: 271 ms, total: 47.2 s\n",
      "Wall time: 47.9 s\n"
     ]
    }
   ],
   "source": [
    "%%time\n",
    "\n",
    "EMBEDDING_DIM = 8\n",
    "LEARNING_RATE = 1e-4\n",
    "REGULARIZATION = 1e-6\n",
    "BATCH_SIZE = 4096\n",
    "EPOCH = 600\n",
    "TRIAL = 100\n",
    "\n",
    "dfm = DeepFM(field_dims, EMBEDDING_DIM).to(device)\n",
    "optimizer = optim.Adam(dfm.parameters(), lr=LEARNING_RATE, weight_decay=REGULARIZATION)\n",
    "criterion = nn.BCELoss()\n",
    "\n",
    "trainer = Trainer(dfm, optimizer, criterion, BATCH_SIZE)\n",
    "trainer.train(train_X, train_y, epoch=EPOCH, trials=TRIAL, valid_X=valid_X, valid_y=valid_y)\n",
    "test_loss, test_auc = trainer.test(test_X, test_y)\n",
    "print('test_loss:  {:.5f} | test_auc:  {:.5f}'.format(test_loss, test_auc))\n"
   ]
  },
  {
   "cell_type": "code",
   "execution_count": null,
   "metadata": {},
   "outputs": [],
   "source": []
  }
 ],
 "metadata": {
  "kernelspec": {
   "display_name": "Python 3",
   "language": "python",
   "name": "python3"
  },
  "language_info": {
   "codemirror_mode": {
    "name": "ipython",
    "version": 3
   },
   "file_extension": ".py",
   "mimetype": "text/x-python",
   "name": "python",
   "nbconvert_exporter": "python",
   "pygments_lexer": "ipython3",
   "version": "3.7.4"
  }
 },
 "nbformat": 4,
 "nbformat_minor": 4
}