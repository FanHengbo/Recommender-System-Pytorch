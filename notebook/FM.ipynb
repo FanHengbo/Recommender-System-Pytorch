{
 "cells": [
  {
   "cell_type": "code",
   "execution_count": 1,
   "metadata": {
    "execution": {
     "iopub.execute_input": "2021-07-03T14:14:15.330913Z",
     "iopub.status.busy": "2021-07-03T14:14:15.330384Z",
     "iopub.status.idle": "2021-07-03T14:14:17.782098Z",
     "shell.execute_reply": "2021-07-03T14:14:17.780637Z",
     "shell.execute_reply.started": "2021-07-03T14:14:15.330876Z"
    }
   },
   "outputs": [
    {
     "name": "stdout",
     "output_type": "stream",
     "text": [
      "Training on [cpu].\n",
      "CPU times: user 1.83 s, sys: 598 ms, total: 2.42 s\n",
      "Wall time: 2.1 s\n"
     ]
    }
   ],
   "source": [
    "%%time\n",
    "\n",
    "from utils.utils import create_dataset, Trainer\n",
    "from layer.layer import Embedding, FeaturesEmbedding, EmbeddingsInteraction, MultiLayerPerceptron\n",
    "\n",
    "import torch\n",
    "import torch.nn as nn\n",
    "import torch.optim as optim\n",
    "\n",
    "device = torch.device('cuda:0' if torch.cuda.is_available() else 'cpu')\n",
    "print('Training on [{}].'.format(device))\n"
   ]
  },
  {
   "cell_type": "code",
   "execution_count": 2,
   "metadata": {
    "execution": {
     "iopub.execute_input": "2021-07-03T14:14:17.783951Z",
     "iopub.status.busy": "2021-07-03T14:14:17.783586Z",
     "iopub.status.idle": "2021-07-03T14:14:28.197551Z",
     "shell.execute_reply": "2021-07-03T14:14:28.196629Z",
     "shell.execute_reply.started": "2021-07-03T14:14:17.783914Z"
    }
   },
   "outputs": [
    {
     "name": "stdout",
     "output_type": "stream",
     "text": [
      "CPU times: user 3.74 s, sys: 296 ms, total: 4.03 s\n",
      "Wall time: 4.05 s\n"
     ]
    }
   ],
   "source": [
    "%%time\n",
    "\n",
    "dataset = create_dataset('criteo', sample_num=100000, device=device)\n",
    "field_dims, (train_X, train_y), (valid_X, valid_y), (test_X, test_y) = dataset.train_valid_test_split()\n"
   ]
  },
  {
   "cell_type": "code",
   "execution_count": 3,
   "metadata": {
    "execution": {
     "iopub.execute_input": "2021-07-03T14:14:28.199343Z",
     "iopub.status.busy": "2021-07-03T14:14:28.198843Z",
     "iopub.status.idle": "2021-07-03T14:14:28.207622Z",
     "shell.execute_reply": "2021-07-03T14:14:28.206794Z",
     "shell.execute_reply.started": "2021-07-03T14:14:28.199300Z"
    }
   },
   "outputs": [],
   "source": [
    "class FactorizationMachine(nn.Module):\n",
    "    \n",
    "    def __init__(self, field_dims, embed_dim=4):\n",
    "        super(FactorizationMachine, self).__init__()\n",
    "        \n",
    "        self.embed1 = FeaturesEmbedding(field_dims, 1)\n",
    "        self.embed2 = FeaturesEmbedding(field_dims, embed_dim)\n",
    "        self.bias = nn.Parameter(torch.zeros((1, )))\n",
    "        \n",
    "    def forward(self, x):\n",
    "        # x shape: (batch_size, num_fields)\n",
    "        # embed(x) shape: (batch_size, num_fields, embed_dim)\n",
    "        square_sum = self.embed2(x).sum(dim=1).pow(2).sum(dim=1)\n",
    "        sum_square = self.embed2(x).pow(2).sum(dim=1).sum(dim=1)\n",
    "        output = self.embed1(x).squeeze(-1).sum(dim=1) + self.bias + (square_sum - sum_square) / 2\n",
    "        output = torch.sigmoid(output).unsqueeze(-1)\n",
    "        return output\n"
   ]
  },
  {
   "cell_type": "code",
   "execution_count": 4,
   "metadata": {
    "execution": {
     "iopub.execute_input": "2021-07-03T14:14:28.209296Z",
     "iopub.status.busy": "2021-07-03T14:14:28.208923Z",
     "iopub.status.idle": "2021-07-03T14:15:04.333175Z",
     "shell.execute_reply": "2021-07-03T14:15:04.332177Z",
     "shell.execute_reply.started": "2021-07-03T14:14:28.209227Z"
    }
   },
   "outputs": [
    {
     "name": "stderr",
     "output_type": "stream",
     "text": [
      " 23%|██▎       | 139/600 [02:21<07:49,  1.02s/it]\n"
     ]
    },
    {
     "data": {
      "image/png": "[encoded data removed]",
      "text/plain": [
       "<Figure size 432x288 with 1 Axes>"
      ]
     },
     "metadata": {
      "needs_background": "light"
     },
     "output_type": "display_data"
    },
    {
     "name": "stdout",
     "output_type": "stream",
     "text": [
      "train_loss: 0.33423 | train_metric: 0.90990\n",
      "valid_loss: 0.47099 | valid_metric: 0.75405\n",
      "test_loss:  0.45951 | test_auc:  0.76267\n",
      "CPU times: user 6min 43s, sys: 1min 4s, total: 7min 47s\n",
      "Wall time: 2min 22s\n"
     ]
    }
   ],
   "source": [
    "%%time\n",
    "\n",
    "EMBEDDING_DIM = 8\n",
    "LEARNING_RATE = 1e-4\n",
    "REGULARIZATION = 1e-6\n",
    "BATCH_SIZE = 4096\n",
    "EPOCH = 600\n",
    "TRIAL = 100\n",
    "\n",
    "fm = FactorizationMachine(field_dims, EMBEDDING_DIM).to(device)\n",
    "optimizer = optim.Adam(fm.parameters(), lr=LEARNING_RATE, weight_decay=REGULARIZATION)\n",
    "criterion = nn.BCELoss()\n",
    "\n",
    "trainer = Trainer(fm, optimizer, criterion, BATCH_SIZE)\n",
    "trainer.train(train_X, train_y, epoch=EPOCH, trials=TRIAL, valid_X=valid_X, valid_y=valid_y)\n",
    "test_loss, test_auc = trainer.test(test_X, test_y)\n",
    "print('test_loss:  {:.5f} | test_auc:  {:.5f}'.format(test_loss, test_auc))\n"
   ]
  },
  {
   "cell_type": "code",
   "execution_count": null,
   "metadata": {},
   "outputs": [],
   "source": []
  }
 ],
 "metadata": {
  "kernelspec": {
   "display_name": "Python 3",
   "language": "python",
   "name": "python3"
  },
  "language_info": {
   "codemirror_mode": {
    "name": "ipython",
    "version": 3
   },
   "file_extension": ".py",
   "mimetype": "text/x-python",
   "name": "python",
   "nbconvert_exporter": "python",
   "pygments_lexer": "ipython3",
   "version": "3.7.4"
  }
 },
 "nbformat": 4,
 "nbformat_minor": 4
}
