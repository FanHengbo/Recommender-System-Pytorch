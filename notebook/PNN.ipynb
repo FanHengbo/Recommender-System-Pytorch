{
 "cells": [
  {
   "cell_type": "code",
   "execution_count": 3,
   "metadata": {
    "execution": {
     "iopub.execute_input": "2021-07-08T14:42:54.463555Z",
     "iopub.status.busy": "2021-07-08T14:42:54.463089Z",
     "iopub.status.idle": "2021-07-08T14:42:56.298446Z",
     "shell.execute_reply": "2021-07-08T14:42:56.297581Z",
     "shell.execute_reply.started": "2021-07-08T14:42:54.463517Z"
    }
   },
   "outputs": [
    {
     "name": "stdout",
     "output_type": "stream",
     "text": [
      "Training on [cuda:0].\n",
      "CPU times: user 617 ms, sys: 273 ms, total: 890 ms\n",
      "Wall time: 1.82 s\n"
     ]
    }
   ],
   "source": [
    "%%time\n",
    "\n",
    "from utils.utils import create_dataset, Trainer\n",
    "from layer.layer import Embedding, FeaturesEmbedding, EmbeddingsInteraction, MultiLayerPerceptron\n",
    "\n",
    "import torch\n",
    "import torch.nn as nn\n",
    "import torch.optim as optim\n",
    "\n",
    "device = torch.device('cuda:0' if torch.cuda.is_available() else 'cpu')\n",
    "print('Training on [{}].'.format(device))\n"
   ]
  },
  {
   "cell_type": "code",
   "execution_count": 4,
   "metadata": {
    "execution": {
     "iopub.execute_input": "2021-07-08T14:42:56.301774Z",
     "iopub.status.busy": "2021-07-08T14:42:56.301504Z",
     "iopub.status.idle": "2021-07-08T14:43:06.021891Z",
     "shell.execute_reply": "2021-07-08T14:43:06.020996Z",
     "shell.execute_reply.started": "2021-07-08T14:42:56.301745Z"
    }
   },
   "outputs": [
    {
     "name": "stdout",
     "output_type": "stream",
     "text": [
      "CPU times: user 6.64 s, sys: 1.02 s, total: 7.66 s\n",
      "Wall time: 9.71 s\n"
     ]
    }
   ],
   "source": [
    "%%time\n",
    "\n",
    "dataset = create_dataset('criteo', sample_num=100000, device=device)\n",
    "field_dims, (train_X, train_y), (valid_X, valid_y), (test_X, test_y) = dataset.train_valid_test_split()\n"
   ]
  },
  {
   "cell_type": "code",
   "execution_count": 5,
   "metadata": {
    "execution": {
     "iopub.execute_input": "2021-07-08T14:43:06.023625Z",
     "iopub.status.busy": "2021-07-08T14:43:06.023283Z",
     "iopub.status.idle": "2021-07-08T14:43:06.036456Z",
     "shell.execute_reply": "2021-07-08T14:43:06.035648Z",
     "shell.execute_reply.started": "2021-07-08T14:43:06.023585Z"
    }
   },
   "outputs": [],
   "source": [
    "class InnerProduct(nn.Module):\n",
    "\n",
    "    def __init__(self):\n",
    "        super(InnerProduct, self).__init__()\n",
    "        self.interaction = EmbeddingsInteraction()\n",
    "        \n",
    "    def forward(self, x):\n",
    "        p = self.interaction(x).sum(dim=2)\n",
    "        return p\n",
    "\n",
    "\n",
    "class OuterProduct(nn.Module):\n",
    "\n",
    "    def __init__(self):\n",
    "        super(OuterProduct, self).__init__()\n",
    "        \n",
    "    def forward(self, x):\n",
    "        num_fields = x.shape[1]\n",
    "        field_dims = x.shape[2]\n",
    "\n",
    "        sum_f = x.sum(dim=1)\n",
    "\n",
    "        i1, i2 = [], []\n",
    "        for i in range(field_dims):\n",
    "            for j in range(field_dims):\n",
    "                i1.append(i)\n",
    "                i2.append(j)\n",
    "        p = torch.mul(sum_f[:, i1], sum_f[:, i2])\n",
    "\n",
    "        return p\n",
    "\n",
    "\n",
    "class ProductBasedNeuralNetwork(nn.Module):\n",
    "    \n",
    "    def __init__(self, field_dims, embed_dim=4, hidden_size=256, method='inner'):\n",
    "        super(ProductBasedNeuralNetwork, self).__init__()\n",
    "        \n",
    "        num_fields = len(field_dims)\n",
    "        \n",
    "        self.embed = FeaturesEmbedding(field_dims, embed_dim)\n",
    "\n",
    "        if method == 'inner':\n",
    "            self.pn = InnerProduct()\n",
    "            mlp_input_size = num_fields * embed_dim + num_fields * (num_fields - 1) // 2\n",
    "        elif method == 'outer':\n",
    "            self.pn = OuterProduct()\n",
    "            mlp_input_size = num_fields * embed_dim + embed_dim ** 2\n",
    "        \n",
    "        self.bias = nn.Parameter(torch.zeros((num_fields * embed_dim, )))\n",
    "        nn.init.xavier_uniform_(self.bias.unsqueeze(0).data)\n",
    "        \n",
    "        self.mlp = MultiLayerPerceptron([mlp_input_size, hidden_size, 1])\n",
    "\n",
    "    def forward(self, x):\n",
    "        # x shape: (batch_size, num_fields)\n",
    "        # embed(x) shape: (batch_size, num_fields, embed_dim)\n",
    "        \n",
    "        x = self.embed(x)\n",
    "        z = x.reshape(x.shape[0], -1) \n",
    "        p = self.pn(x)\n",
    "\n",
    "        output = torch.cat([z + self.bias, p], dim=1)\n",
    "        output = self.mlp(output)\n",
    "        output = torch.sigmoid(output)\n",
    "        \n",
    "        return output\n"
   ]
  },
  {
   "cell_type": "code",
   "execution_count": 6,
   "metadata": {
    "execution": {
     "iopub.execute_input": "2021-07-08T14:43:06.038492Z",
     "iopub.status.busy": "2021-07-08T14:43:06.037834Z",
     "iopub.status.idle": "2021-07-08T14:43:50.499742Z",
     "shell.execute_reply": "2021-07-08T14:43:50.498272Z",
     "shell.execute_reply.started": "2021-07-08T14:43:06.038456Z"
    }
   },
   "outputs": [
    {
     "name": "stderr",
     "output_type": "stream",
     "text": [
      " 17%|█▋        | 104/600 [00:44<03:30,  2.36it/s]\n"
     ]
    },
    {
     "data": {
      "image/png": "[encoded data removed]",
      "text/plain": [
       "<Figure size 432x288 with 1 Axes>"
      ]
     },
     "metadata": {
      "needs_background": "light"
     },
     "output_type": "display_data"
    },
    {
     "name": "stdout",
     "output_type": "stream",
     "text": [
      "train_loss: 0.37847 | train_metric: 0.92069\n",
      "valid_loss: 0.48046 | valid_metric: 0.74552\n",
      "test_loss:  0.46586 | test_auc:  0.75726\n",
      "CPU times: user 43.1 s, sys: 288 ms, total: 43.4 s\n",
      "Wall time: 44.4 s\n"
     ]
    }
   ],
   "source": [
    "%%time\n",
    "\n",
    "EMBEDDING_DIM = 8\n",
    "LEARNING_RATE = 1e-4\n",
    "REGULARIZATION = 1e-6\n",
    "BATCH_SIZE = 4096\n",
    "EPOCH = 600\n",
    "TRIAL = 100\n",
    "\n",
    "ipnn = ProductBasedNeuralNetwork(field_dims, EMBEDDING_DIM, method='inner').to(device)\n",
    "optimizer = optim.Adam(ipnn.parameters(), lr=LEARNING_RATE, weight_decay=REGULARIZATION)\n",
    "criterion = nn.BCELoss()\n",
    "\n",
    "trainer = Trainer(ipnn, optimizer, criterion, BATCH_SIZE)\n",
    "trainer.train(train_X, train_y, epoch=EPOCH, trials=TRIAL, valid_X=valid_X, valid_y=valid_y)\n",
    "test_loss, test_auc = trainer.test(test_X, test_y)\n",
    "print('test_loss:  {:.5f} | test_auc:  {:.5f}'.format(test_loss, test_auc))\n"
   ]
  },
  {
   "cell_type": "code",
   "execution_count": 7,
   "metadata": {
    "execution": {
     "iopub.execute_input": "2021-07-08T14:43:50.501468Z",
     "iopub.status.busy": "2021-07-08T14:43:50.500974Z",
     "iopub.status.idle": "2021-07-08T14:44:02.500362Z",
     "shell.execute_reply": "2021-07-08T14:44:02.499526Z",
     "shell.execute_reply.started": "2021-07-08T14:43:50.501425Z"
    }
   },
   "outputs": [
    {
     "name": "stderr",
     "output_type": "stream",
     "text": [
      " 17%|█▋        | 103/600 [00:11<00:56,  8.76it/s]\n"
     ]
    },
    {
     "data": {
      "image/png": "[encoded data removed]",
      "text/plain": [
       "<Figure size 432x288 with 1 Axes>"
      ]
     },
     "metadata": {
      "needs_background": "light"
     },
     "output_type": "display_data"
    },
    {
     "name": "stdout",
     "output_type": "stream",
     "text": [
      "train_loss: 0.52820 | train_metric: 0.88899\n",
      "valid_loss: 0.56167 | valid_metric: 0.75441\n",
      "test_loss:  0.55713 | test_auc:  0.75918\n",
      "CPU times: user 11.8 s, sys: 154 ms, total: 12 s\n",
      "Wall time: 12 s\n"
     ]
    }
   ],
   "source": [
    "%%time\n",
    "\n",
    "EMBEDDING_DIM = 8\n",
    "LEARNING_RATE = 1e-4\n",
    "REGULARIZATION = 1e-6\n",
    "BATCH_SIZE = 4096\n",
    "EPOCH = 600\n",
    "TRIAL = 100\n",
    "\n",
    "opnn = ProductBasedNeuralNetwork(field_dims, EMBEDDING_DIM, method='outer').to(device)\n",
    "optimizer = optim.Adam(opnn.parameters(), lr=LEARNING_RATE, weight_decay=REGULARIZATION)\n",
    "criterion = nn.BCELoss()\n",
    "\n",
    "trainer = Trainer(opnn, optimizer, criterion, BATCH_SIZE)\n",
    "trainer.train(train_X, train_y, epoch=EPOCH, trials=TRIAL, valid_X=valid_X, valid_y=valid_y)\n",
    "test_loss, test_auc = trainer.test(test_X, test_y)\n",
    "print('test_loss:  {:.5f} | test_auc:  {:.5f}'.format(test_loss, test_auc))\n"
   ]
  }
 ],
 "metadata": {
  "kernelspec": {
   "display_name": "Python 3",
   "language": "python",
   "name": "python3"
  },
  "language_info": {
   "codemirror_mode": {
    "name": "ipython",
    "version": 3
   },
   "file_extension": ".py",
   "mimetype": "text/x-python",
   "name": "python",
   "nbconvert_exporter": "python",
   "pygments_lexer": "ipython3",
   "version": "3.7.4"
  }
 },
 "nbformat": 4,
 "nbformat_minor": 4
}