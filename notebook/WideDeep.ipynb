{
 "cells": [
  {
   "cell_type": "code",
   "execution_count": 3,
   "metadata": {
    "execution": {
     "iopub.execute_input": "2021-07-06T16:30:09.885133Z",
     "iopub.status.busy": "2021-07-06T16:30:09.884676Z",
     "iopub.status.idle": "2021-07-06T16:30:11.748097Z",
     "shell.execute_reply": "2021-07-06T16:30:11.747239Z",
     "shell.execute_reply.started": "2021-07-06T16:30:09.885094Z"
    }
   },
   "outputs": [
    {
     "name": "stdout",
     "output_type": "stream",
     "text": [
      "Training on [cuda:0].\n",
      "CPU times: user 594 ms, sys: 260 ms, total: 854 ms\n",
      "Wall time: 1.86 s\n"
     ]
    }
   ],
   "source": [
    "%%time\n",
    "\n",
    "from utils.utils import create_dataset, Trainer\n",
    "from layer.layer import Embedding, FeaturesEmbedding, EmbeddingsInteraction, MultiLayerPerceptron\n",
    "\n",
    "import torch\n",
    "import torch.nn as nn\n",
    "import torch.optim as optim\n",
    "\n",
    "device = torch.device('cuda:0' if torch.cuda.is_available() else 'cpu')\n",
    "print('Training on [{}].'.format(device))\n"
   ]
  },
  {
   "cell_type": "code",
   "execution_count": 4,
   "metadata": {
    "execution": {
     "iopub.execute_input": "2021-07-06T16:30:11.750150Z",
     "iopub.status.busy": "2021-07-06T16:30:11.749577Z",
     "iopub.status.idle": "2021-07-06T16:30:21.256727Z",
     "shell.execute_reply": "2021-07-06T16:30:21.255859Z",
     "shell.execute_reply.started": "2021-07-06T16:30:11.750097Z"
    }
   },
   "outputs": [
    {
     "name": "stdout",
     "output_type": "stream",
     "text": [
      "CPU times: user 6.29 s, sys: 1.01 s, total: 7.29 s\n",
      "Wall time: 9.5 s\n"
     ]
    }
   ],
   "source": [
    "%%time\n",
    "\n",
    "dataset = create_dataset('criteo', sample_num=100000, device=device)\n",
    "field_dims, (train_X, train_y), (valid_X, valid_y), (test_X, test_y) = dataset.train_valid_test_split()\n"
   ]
  },
  {
   "cell_type": "code",
   "execution_count": 5,
   "metadata": {
    "execution": {
     "iopub.execute_input": "2021-07-06T16:30:21.258399Z",
     "iopub.status.busy": "2021-07-06T16:30:21.258055Z",
     "iopub.status.idle": "2021-07-06T16:30:21.267539Z",
     "shell.execute_reply": "2021-07-06T16:30:21.266771Z",
     "shell.execute_reply.started": "2021-07-06T16:30:21.258362Z"
    }
   },
   "outputs": [],
   "source": [
    "class WideDeep(nn.Module):\n",
    "    \n",
    "    def __init__(self, field_dims, embed_dim=4):\n",
    "        super(WideDeep, self).__init__()\n",
    "        \n",
    "        self.wide = FeaturesEmbedding(field_dims, 1)\n",
    "        \n",
    "        self.embedding = FeaturesEmbedding(field_dims, embed_dim)\n",
    "        self.deep = MultiLayerPerceptron([embed_dim * len(field_dims), 128, 64, 32])\n",
    "        self.fc = nn.Linear(32 + embed_dim * len(field_dims), 1)\n",
    "        \n",
    "    def forward(self, x):\n",
    "        # x shape: (batch_size, num_fields)\n",
    "        wide_output = self.wide(x)\n",
    "        embedding_output = self.embedding(x).reshape(x.shape[0], -1)\n",
    "        deep_output = self.deep(embedding_output)\n",
    "        concat = torch.hstack([embedding_output, deep_output])\n",
    "        output = self.fc(concat)\n",
    "        output = torch.sigmoid(output)\n",
    "        \n",
    "        return output\n"
   ]
  },
  {
   "cell_type": "code",
   "execution_count": 6,
   "metadata": {
    "execution": {
     "iopub.execute_input": "2021-07-06T16:30:21.269218Z",
     "iopub.status.busy": "2021-07-06T16:30:21.268708Z",
     "iopub.status.idle": "2021-07-06T16:30:35.664118Z",
     "shell.execute_reply": "2021-07-06T16:30:35.663306Z",
     "shell.execute_reply.started": "2021-07-06T16:30:21.269174Z"
    }
   },
   "outputs": [
    {
     "name": "stderr",
     "output_type": "stream",
     "text": [
      " 17%|█▋        | 103/600 [00:14<01:07,  7.32it/s]\n"
     ]
    },
    {
     "data": {
      "image/png": "[encoded data removed]",
      "text/plain": [
       "<Figure size 432x288 with 1 Axes>"
      ]
     },
     "metadata": {
      "needs_background": "light"
     },
     "output_type": "display_data"
    },
    {
     "name": "stdout",
     "output_type": "stream",
     "text": [
      "train_loss: 0.59628 | train_metric: 0.92153\n",
      "valid_loss: 0.61179 | valid_metric: 0.74230\n",
      "test_loss:  0.60896 | test_auc:  0.75216\n",
      "CPU times: user 13.6 s, sys: 203 ms, total: 13.8 s\n",
      "Wall time: 14.4 s\n"
     ]
    }
   ],
   "source": [
    "%%time\n",
    "\n",
    "EMBEDDING_DIM = 8\n",
    "LEARNING_RATE = 1e-4\n",
    "REGULARIZATION = 1e-6\n",
    "BATCH_SIZE = 4096\n",
    "EPOCH = 600\n",
    "TRIAL = 100\n",
    "\n",
    "wd = WideDeep(field_dims, EMBEDDING_DIM).to(device)\n",
    "optimizer = optim.Adam(wd.parameters(), lr=LEARNING_RATE, weight_decay=REGULARIZATION)\n",
    "criterion = nn.BCELoss()\n",
    "\n",
    "trainer = Trainer(wd, optimizer, criterion, BATCH_SIZE)\n",
    "trainer.train(train_X, train_y, epoch=EPOCH, trials=TRIAL, valid_X=valid_X, valid_y=valid_y)\n",
    "test_loss, test_auc = trainer.test(test_X, test_y)\n",
    "print('test_loss:  {:.5f} | test_auc:  {:.5f}'.format(test_loss, test_auc))\n"
   ]
  },
  {
   "cell_type": "code",
   "execution_count": null,
   "metadata": {},
   "outputs": [],
   "source": []
  }
 ],
 "metadata": {
  "kernelspec": {
   "display_name": "Python 3",
   "language": "python",
   "name": "python3"
  },
  "language_info": {
   "codemirror_mode": {
    "name": "ipython",
    "version": 3
   },
   "file_extension": ".py",
   "mimetype": "text/x-python",
   "name": "python",
   "nbconvert_exporter": "python",
   "pygments_lexer": "ipython3",
   "version": "3.7.4"
  }
 },
 "nbformat": 4,
 "nbformat_minor": 4
}